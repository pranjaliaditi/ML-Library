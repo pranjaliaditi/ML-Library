{
  "nbformat": 4,
  "nbformat_minor": 0,
  "metadata": {
    "colab": {
      "name": "Neural Network.ipynb",
      "provenance": []
    },
    "kernelspec": {
      "name": "python3",
      "display_name": "Python 3"
    },
    "language_info": {
      "name": "python"
    }
  },
  "cells": [
    {
      "cell_type": "markdown",
      "source": [
        "Importing"
      ],
      "metadata": {
        "id": "u68zPomz2vIy"
      }
    },
    {
      "cell_type": "code",
      "execution_count": 1,
      "metadata": {
        "id": "VTFJCqVU5NA7"
      },
      "outputs": [],
      "source": [
        "import numpy as np\n",
        "import pandas as pd\n",
        "import matplotlib.pyplot as plt"
      ]
    },
    {
      "cell_type": "code",
      "source": [
        "from google.colab import drive\n",
        "drive.mount('/content/drive')"
      ],
      "metadata": {
        "colab": {
          "base_uri": "https://localhost:8080/"
        },
        "id": "OO_8D82y20zu",
        "outputId": "5b37ee7e-dea4-4d1f-c822-3e5f4229210d"
      },
      "execution_count": 2,
      "outputs": [
        {
          "output_type": "stream",
          "name": "stdout",
          "text": [
            "Mounted at /content/drive\n"
          ]
        }
      ]
    },
    {
      "cell_type": "code",
      "source": [
        "%cd /content/drive/MyDrive\n",
        "!mkdir logistic_data"
      ],
      "metadata": {
        "colab": {
          "base_uri": "https://localhost:8080/"
        },
        "id": "EidYTkCi24mG",
        "outputId": "45974c68-2e3c-46e0-cb5b-dd0e5b8b6358"
      },
      "execution_count": 3,
      "outputs": [
        {
          "output_type": "stream",
          "name": "stdout",
          "text": [
            "/content/drive/MyDrive\n",
            "mkdir: cannot create directory ‘logistic_data’: File exists\n"
          ]
        }
      ]
    },
    {
      "cell_type": "code",
      "source": [
        "!pwd"
      ],
      "metadata": {
        "colab": {
          "base_uri": "https://localhost:8080/"
        },
        "id": "_8gyEnxy27Dv",
        "outputId": "f205e498-edf0-4c93-9529-a0eecf356bf9"
      },
      "execution_count": 4,
      "outputs": [
        {
          "output_type": "stream",
          "name": "stdout",
          "text": [
            "/content/drive/MyDrive\n"
          ]
        }
      ]
    },
    {
      "cell_type": "code",
      "source": [
        "train_path = '/content/drive/MyDrive/logistic_data/emnist-letters-train.csv'\n",
        "test_path = '/content/drive/MyDrive/logistic_data/emnist-letters-test.csv'\n",
        "\n",
        "train = pd.read_csv (train_path,header=None)\n",
        "test = pd.read_csv (test_path,header=None)"
      ],
      "metadata": {
        "id": "WB6OXjsa3THp"
      },
      "execution_count": 5,
      "outputs": []
    },
    {
      "cell_type": "code",
      "source": [
        "# converting train DataFrame to array\n",
        "\n",
        "train = np.array(train) \n",
        "\n",
        "# Getting X and Y arrays\n",
        "\n",
        "X = train [:, 1:]\n",
        "Y = train [:, 0] # first column is label\n",
        "\n",
        "# Reshaping Y \n",
        "\n",
        "Y = Y.reshape((X.shape[0],1))"
      ],
      "metadata": {
        "id": "jf9UuwqD3XWl"
      },
      "execution_count": 6,
      "outputs": []
    },
    {
      "cell_type": "code",
      "source": [
        "# test data\n",
        "\n",
        "test_data = np.array(test)\n",
        "Y_test = test_data [: , 0].reshape(test_data.shape[0],1)\n",
        "X_test = test_data [: , 1:]"
      ],
      "metadata": {
        "id": "9zhtA_Pc3Ywt"
      },
      "execution_count": 7,
      "outputs": []
    },
    {
      "cell_type": "code",
      "source": [
        "print(X.shape) # columns should be 784 since 28 * 28 = 784\n",
        "print(Y.shape)\n",
        "print(X_test.shape) # columns should be 784 since 28 * 28 = 784\n",
        "print(Y_test.shape)"
      ],
      "metadata": {
        "colab": {
          "base_uri": "https://localhost:8080/"
        },
        "id": "qEpyWGdr3bJ4",
        "outputId": "e0892933-52bc-4506-9fde-b0e8fc53cc76"
      },
      "execution_count": 8,
      "outputs": [
        {
          "output_type": "stream",
          "name": "stdout",
          "text": [
            "(88800, 784)\n",
            "(88800, 1)\n",
            "(14800, 784)\n",
            "(14800, 1)\n"
          ]
        }
      ]
    }
  ]
}