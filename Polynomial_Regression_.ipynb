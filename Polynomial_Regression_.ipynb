{
  "nbformat": 4,
  "nbformat_minor": 0,
  "metadata": {
    "colab": {
      "name": "Polynomial Regression .ipynb",
      "provenance": [],
      "toc_visible": true
    },
    "kernelspec": {
      "name": "python3",
      "display_name": "Python 3"
    },
    "language_info": {
      "name": "python"
    }
  },
  "cells": [
    {
      "cell_type": "markdown",
      "source": [
        "# Importing Datasets"
      ],
      "metadata": {
        "id": "BOIcb_I4amkZ"
      }
    },
    {
      "cell_type": "code",
      "execution_count": null,
      "metadata": {
        "id": "whKtUbPEYU0j"
      },
      "outputs": [],
      "source": [
        "# importing libraries\n",
        "\n",
        "import numpy as np\n",
        "import pandas as pd\n",
        "import matplotlib.pyplot as plt"
      ]
    },
    {
      "cell_type": "code",
      "source": [
        "from google.colab import drive\n",
        "drive.mount('/content/drive')"
      ],
      "metadata": {
        "colab": {
          "base_uri": "https://localhost:8080/"
        },
        "id": "m2c70nfpZPTP",
        "outputId": "5e70206e-9457-4fe8-f57c-91bc3c8a71d8"
      },
      "execution_count": null,
      "outputs": [
        {
          "output_type": "stream",
          "name": "stdout",
          "text": [
            "Mounted at /content/drive\n"
          ]
        }
      ]
    },
    {
      "cell_type": "code",
      "source": [
        "%cd /content/drive/MyDrive\n",
        "!mkdir polynomial_data"
      ],
      "metadata": {
        "colab": {
          "base_uri": "https://localhost:8080/"
        },
        "id": "m-D6r_bAZn9K",
        "outputId": "25e58046-6fb7-4019-d50b-b704e47958ad"
      },
      "execution_count": null,
      "outputs": [
        {
          "output_type": "stream",
          "name": "stdout",
          "text": [
            "/content/drive/MyDrive\n",
            "mkdir: cannot create directory ‘polynomial_data’: File exists\n"
          ]
        }
      ]
    },
    {
      "cell_type": "code",
      "source": [
        "!pwd"
      ],
      "metadata": {
        "colab": {
          "base_uri": "https://localhost:8080/"
        },
        "id": "tlblunJqZsui",
        "outputId": "f3dd6cc7-93f0-466f-ae43-9be36dd415e4"
      },
      "execution_count": null,
      "outputs": [
        {
          "output_type": "stream",
          "name": "stdout",
          "text": [
            "/content/drive/MyDrive\n"
          ]
        }
      ]
    },
    {
      "cell_type": "code",
      "source": [
        "%cd polynomial_data/"
      ],
      "metadata": {
        "colab": {
          "base_uri": "https://localhost:8080/"
        },
        "id": "dAMIgjYbZyM3",
        "outputId": "5488579e-e89c-4447-9338-285451945866"
      },
      "execution_count": null,
      "outputs": [
        {
          "output_type": "stream",
          "name": "stdout",
          "text": [
            "/content/drive/MyDrive/polynomial_data\n"
          ]
        }
      ]
    },
    {
      "cell_type": "code",
      "source": [
        "%cp /content/Polynomial_train.csv /content/drive/MyDrive/polynomial_data\n",
        "%cp /content/Polynomial_test.csv /content/drive/MyDrive/polynomial_data"
      ],
      "metadata": {
        "colab": {
          "base_uri": "https://localhost:8080/"
        },
        "id": "0Q_xx36JZ6eU",
        "outputId": "dfc30dc1-00bf-41ef-987b-5f72eea08490"
      },
      "execution_count": null,
      "outputs": [
        {
          "output_type": "stream",
          "name": "stdout",
          "text": [
            "cp: cannot stat '/content/Polynomial_train.csv': No such file or directory\n",
            "cp: cannot stat '/content/Polynomial_test.csv': No such file or directory\n"
          ]
        }
      ]
    },
    {
      "cell_type": "code",
      "source": [
        "!ls"
      ],
      "metadata": {
        "colab": {
          "base_uri": "https://localhost:8080/"
        },
        "id": "glYjMPilaka6",
        "outputId": "0385b54a-bc8e-4522-be1a-da83dd10fa81"
      },
      "execution_count": null,
      "outputs": [
        {
          "output_type": "stream",
          "name": "stdout",
          "text": [
            "Polynomial_test.csv  Polynomial_train.csv\n"
          ]
        }
      ]
    },
    {
      "cell_type": "code",
      "source": [
        "train_path = '/content/drive/MyDrive/polynomial_data/Polynomial_train.csv'\n",
        "test_path = '/content/drive/MyDrive/polynomial_data/Polynomial_test.csv'\n",
        "\n",
        "train = pd.read_csv (train_path)\n",
        "test = pd.read_csv (test_path)"
      ],
      "metadata": {
        "id": "T6z8iJ4xaus8"
      },
      "execution_count": null,
      "outputs": []
    },
    {
      "cell_type": "markdown",
      "source": [
        "## Checking Imported data"
      ],
      "metadata": {
        "id": "Km90eqM2bujy"
      }
    },
    {
      "cell_type": "code",
      "source": [
        "train.head(5)"
      ],
      "metadata": {
        "colab": {
          "base_uri": "https://localhost:8080/",
          "height": 206
        },
        "id": "STOv3ZiQbzg9",
        "outputId": "0986badd-d8d4-4ef2-a4fa-6391467254e5"
      },
      "execution_count": null,
      "outputs": [
        {
          "output_type": "execute_result",
          "data": {
            "text/plain": [
              "   Unnamed: 0         X         Y         Z       label\n",
              "0           0  0.643715 -9.866550 -5.836019  307.972927\n",
              "1           1 -1.366446 -3.761945 -8.756162  136.398375\n",
              "2           2 -4.090270 -1.836218 -1.846066 -310.724813\n",
              "3           3 -8.730478 -1.923651  3.892972    1.755447\n",
              "4           4  5.367169  0.358357  6.703989 -343.582590"
            ],
            "text/html": [
              "\n",
              "  <div id=\"df-3df9da00-3f57-4ac6-b690-9c1a89d55dcd\">\n",
              "    <div class=\"colab-df-container\">\n",
              "      <div>\n",
              "<style scoped>\n",
              "    .dataframe tbody tr th:only-of-type {\n",
              "        vertical-align: middle;\n",
              "    }\n",
              "\n",
              "    .dataframe tbody tr th {\n",
              "        vertical-align: top;\n",
              "    }\n",
              "\n",
              "    .dataframe thead th {\n",
              "        text-align: right;\n",
              "    }\n",
              "</style>\n",
              "<table border=\"1\" class=\"dataframe\">\n",
              "  <thead>\n",
              "    <tr style=\"text-align: right;\">\n",
              "      <th></th>\n",
              "      <th>Unnamed: 0</th>\n",
              "      <th>X</th>\n",
              "      <th>Y</th>\n",
              "      <th>Z</th>\n",
              "      <th>label</th>\n",
              "    </tr>\n",
              "  </thead>\n",
              "  <tbody>\n",
              "    <tr>\n",
              "      <th>0</th>\n",
              "      <td>0</td>\n",
              "      <td>0.643715</td>\n",
              "      <td>-9.866550</td>\n",
              "      <td>-5.836019</td>\n",
              "      <td>307.972927</td>\n",
              "    </tr>\n",
              "    <tr>\n",
              "      <th>1</th>\n",
              "      <td>1</td>\n",
              "      <td>-1.366446</td>\n",
              "      <td>-3.761945</td>\n",
              "      <td>-8.756162</td>\n",
              "      <td>136.398375</td>\n",
              "    </tr>\n",
              "    <tr>\n",
              "      <th>2</th>\n",
              "      <td>2</td>\n",
              "      <td>-4.090270</td>\n",
              "      <td>-1.836218</td>\n",
              "      <td>-1.846066</td>\n",
              "      <td>-310.724813</td>\n",
              "    </tr>\n",
              "    <tr>\n",
              "      <th>3</th>\n",
              "      <td>3</td>\n",
              "      <td>-8.730478</td>\n",
              "      <td>-1.923651</td>\n",
              "      <td>3.892972</td>\n",
              "      <td>1.755447</td>\n",
              "    </tr>\n",
              "    <tr>\n",
              "      <th>4</th>\n",
              "      <td>4</td>\n",
              "      <td>5.367169</td>\n",
              "      <td>0.358357</td>\n",
              "      <td>6.703989</td>\n",
              "      <td>-343.582590</td>\n",
              "    </tr>\n",
              "  </tbody>\n",
              "</table>\n",
              "</div>\n",
              "      <button class=\"colab-df-convert\" onclick=\"convertToInteractive('df-3df9da00-3f57-4ac6-b690-9c1a89d55dcd')\"\n",
              "              title=\"Convert this dataframe to an interactive table.\"\n",
              "              style=\"display:none;\">\n",
              "        \n",
              "  <svg xmlns=\"http://www.w3.org/2000/svg\" height=\"24px\"viewBox=\"0 0 24 24\"\n",
              "       width=\"24px\">\n",
              "    <path d=\"M0 0h24v24H0V0z\" fill=\"none\"/>\n",
              "    <path d=\"M18.56 5.44l.94 2.06.94-2.06 2.06-.94-2.06-.94-.94-2.06-.94 2.06-2.06.94zm-11 1L8.5 8.5l.94-2.06 2.06-.94-2.06-.94L8.5 2.5l-.94 2.06-2.06.94zm10 10l.94 2.06.94-2.06 2.06-.94-2.06-.94-.94-2.06-.94 2.06-2.06.94z\"/><path d=\"M17.41 7.96l-1.37-1.37c-.4-.4-.92-.59-1.43-.59-.52 0-1.04.2-1.43.59L10.3 9.45l-7.72 7.72c-.78.78-.78 2.05 0 2.83L4 21.41c.39.39.9.59 1.41.59.51 0 1.02-.2 1.41-.59l7.78-7.78 2.81-2.81c.8-.78.8-2.07 0-2.86zM5.41 20L4 18.59l7.72-7.72 1.47 1.35L5.41 20z\"/>\n",
              "  </svg>\n",
              "      </button>\n",
              "      \n",
              "  <style>\n",
              "    .colab-df-container {\n",
              "      display:flex;\n",
              "      flex-wrap:wrap;\n",
              "      gap: 12px;\n",
              "    }\n",
              "\n",
              "    .colab-df-convert {\n",
              "      background-color: #E8F0FE;\n",
              "      border: none;\n",
              "      border-radius: 50%;\n",
              "      cursor: pointer;\n",
              "      display: none;\n",
              "      fill: #1967D2;\n",
              "      height: 32px;\n",
              "      padding: 0 0 0 0;\n",
              "      width: 32px;\n",
              "    }\n",
              "\n",
              "    .colab-df-convert:hover {\n",
              "      background-color: #E2EBFA;\n",
              "      box-shadow: 0px 1px 2px rgba(60, 64, 67, 0.3), 0px 1px 3px 1px rgba(60, 64, 67, 0.15);\n",
              "      fill: #174EA6;\n",
              "    }\n",
              "\n",
              "    [theme=dark] .colab-df-convert {\n",
              "      background-color: #3B4455;\n",
              "      fill: #D2E3FC;\n",
              "    }\n",
              "\n",
              "    [theme=dark] .colab-df-convert:hover {\n",
              "      background-color: #434B5C;\n",
              "      box-shadow: 0px 1px 3px 1px rgba(0, 0, 0, 0.15);\n",
              "      filter: drop-shadow(0px 1px 2px rgba(0, 0, 0, 0.3));\n",
              "      fill: #FFFFFF;\n",
              "    }\n",
              "  </style>\n",
              "\n",
              "      <script>\n",
              "        const buttonEl =\n",
              "          document.querySelector('#df-3df9da00-3f57-4ac6-b690-9c1a89d55dcd button.colab-df-convert');\n",
              "        buttonEl.style.display =\n",
              "          google.colab.kernel.accessAllowed ? 'block' : 'none';\n",
              "\n",
              "        async function convertToInteractive(key) {\n",
              "          const element = document.querySelector('#df-3df9da00-3f57-4ac6-b690-9c1a89d55dcd');\n",
              "          const dataTable =\n",
              "            await google.colab.kernel.invokeFunction('convertToInteractive',\n",
              "                                                     [key], {});\n",
              "          if (!dataTable) return;\n",
              "\n",
              "          const docLinkHtml = 'Like what you see? Visit the ' +\n",
              "            '<a target=\"_blank\" href=https://colab.research.google.com/notebooks/data_table.ipynb>data table notebook</a>'\n",
              "            + ' to learn more about interactive tables.';\n",
              "          element.innerHTML = '';\n",
              "          dataTable['output_type'] = 'display_data';\n",
              "          await google.colab.output.renderOutput(dataTable, element);\n",
              "          const docLink = document.createElement('div');\n",
              "          docLink.innerHTML = docLinkHtml;\n",
              "          element.appendChild(docLink);\n",
              "        }\n",
              "      </script>\n",
              "    </div>\n",
              "  </div>\n",
              "  "
            ]
          },
          "metadata": {},
          "execution_count": 9
        }
      ]
    },
    {
      "cell_type": "code",
      "source": [
        "test.head(5)"
      ],
      "metadata": {
        "colab": {
          "base_uri": "https://localhost:8080/",
          "height": 206
        },
        "id": "I61Zus09b1tU",
        "outputId": "df9e897e-e0d3-47ef-8b73-f8c25d50637e"
      },
      "execution_count": null,
      "outputs": [
        {
          "output_type": "execute_result",
          "data": {
            "text/plain": [
              "   Unnamed: 0         X         Y         Z        label\n",
              "0           0  9.322078  0.413096  5.984731  -657.669309\n",
              "1           1  2.811964  6.142752  6.419237  -545.362524\n",
              "2           2 -2.669784  7.775091 -6.931907   -75.044187\n",
              "3           3 -6.992156 -9.205548  0.852580 -2403.124902\n",
              "4           4  1.574294 -2.213266  6.029188     8.595325"
            ],
            "text/html": [
              "\n",
              "  <div id=\"df-c5a092f9-0501-45cf-ae64-0d83ad0eed3a\">\n",
              "    <div class=\"colab-df-container\">\n",
              "      <div>\n",
              "<style scoped>\n",
              "    .dataframe tbody tr th:only-of-type {\n",
              "        vertical-align: middle;\n",
              "    }\n",
              "\n",
              "    .dataframe tbody tr th {\n",
              "        vertical-align: top;\n",
              "    }\n",
              "\n",
              "    .dataframe thead th {\n",
              "        text-align: right;\n",
              "    }\n",
              "</style>\n",
              "<table border=\"1\" class=\"dataframe\">\n",
              "  <thead>\n",
              "    <tr style=\"text-align: right;\">\n",
              "      <th></th>\n",
              "      <th>Unnamed: 0</th>\n",
              "      <th>X</th>\n",
              "      <th>Y</th>\n",
              "      <th>Z</th>\n",
              "      <th>label</th>\n",
              "    </tr>\n",
              "  </thead>\n",
              "  <tbody>\n",
              "    <tr>\n",
              "      <th>0</th>\n",
              "      <td>0</td>\n",
              "      <td>9.322078</td>\n",
              "      <td>0.413096</td>\n",
              "      <td>5.984731</td>\n",
              "      <td>-657.669309</td>\n",
              "    </tr>\n",
              "    <tr>\n",
              "      <th>1</th>\n",
              "      <td>1</td>\n",
              "      <td>2.811964</td>\n",
              "      <td>6.142752</td>\n",
              "      <td>6.419237</td>\n",
              "      <td>-545.362524</td>\n",
              "    </tr>\n",
              "    <tr>\n",
              "      <th>2</th>\n",
              "      <td>2</td>\n",
              "      <td>-2.669784</td>\n",
              "      <td>7.775091</td>\n",
              "      <td>-6.931907</td>\n",
              "      <td>-75.044187</td>\n",
              "    </tr>\n",
              "    <tr>\n",
              "      <th>3</th>\n",
              "      <td>3</td>\n",
              "      <td>-6.992156</td>\n",
              "      <td>-9.205548</td>\n",
              "      <td>0.852580</td>\n",
              "      <td>-2403.124902</td>\n",
              "    </tr>\n",
              "    <tr>\n",
              "      <th>4</th>\n",
              "      <td>4</td>\n",
              "      <td>1.574294</td>\n",
              "      <td>-2.213266</td>\n",
              "      <td>6.029188</td>\n",
              "      <td>8.595325</td>\n",
              "    </tr>\n",
              "  </tbody>\n",
              "</table>\n",
              "</div>\n",
              "      <button class=\"colab-df-convert\" onclick=\"convertToInteractive('df-c5a092f9-0501-45cf-ae64-0d83ad0eed3a')\"\n",
              "              title=\"Convert this dataframe to an interactive table.\"\n",
              "              style=\"display:none;\">\n",
              "        \n",
              "  <svg xmlns=\"http://www.w3.org/2000/svg\" height=\"24px\"viewBox=\"0 0 24 24\"\n",
              "       width=\"24px\">\n",
              "    <path d=\"M0 0h24v24H0V0z\" fill=\"none\"/>\n",
              "    <path d=\"M18.56 5.44l.94 2.06.94-2.06 2.06-.94-2.06-.94-.94-2.06-.94 2.06-2.06.94zm-11 1L8.5 8.5l.94-2.06 2.06-.94-2.06-.94L8.5 2.5l-.94 2.06-2.06.94zm10 10l.94 2.06.94-2.06 2.06-.94-2.06-.94-.94-2.06-.94 2.06-2.06.94z\"/><path d=\"M17.41 7.96l-1.37-1.37c-.4-.4-.92-.59-1.43-.59-.52 0-1.04.2-1.43.59L10.3 9.45l-7.72 7.72c-.78.78-.78 2.05 0 2.83L4 21.41c.39.39.9.59 1.41.59.51 0 1.02-.2 1.41-.59l7.78-7.78 2.81-2.81c.8-.78.8-2.07 0-2.86zM5.41 20L4 18.59l7.72-7.72 1.47 1.35L5.41 20z\"/>\n",
              "  </svg>\n",
              "      </button>\n",
              "      \n",
              "  <style>\n",
              "    .colab-df-container {\n",
              "      display:flex;\n",
              "      flex-wrap:wrap;\n",
              "      gap: 12px;\n",
              "    }\n",
              "\n",
              "    .colab-df-convert {\n",
              "      background-color: #E8F0FE;\n",
              "      border: none;\n",
              "      border-radius: 50%;\n",
              "      cursor: pointer;\n",
              "      display: none;\n",
              "      fill: #1967D2;\n",
              "      height: 32px;\n",
              "      padding: 0 0 0 0;\n",
              "      width: 32px;\n",
              "    }\n",
              "\n",
              "    .colab-df-convert:hover {\n",
              "      background-color: #E2EBFA;\n",
              "      box-shadow: 0px 1px 2px rgba(60, 64, 67, 0.3), 0px 1px 3px 1px rgba(60, 64, 67, 0.15);\n",
              "      fill: #174EA6;\n",
              "    }\n",
              "\n",
              "    [theme=dark] .colab-df-convert {\n",
              "      background-color: #3B4455;\n",
              "      fill: #D2E3FC;\n",
              "    }\n",
              "\n",
              "    [theme=dark] .colab-df-convert:hover {\n",
              "      background-color: #434B5C;\n",
              "      box-shadow: 0px 1px 3px 1px rgba(0, 0, 0, 0.15);\n",
              "      filter: drop-shadow(0px 1px 2px rgba(0, 0, 0, 0.3));\n",
              "      fill: #FFFFFF;\n",
              "    }\n",
              "  </style>\n",
              "\n",
              "      <script>\n",
              "        const buttonEl =\n",
              "          document.querySelector('#df-c5a092f9-0501-45cf-ae64-0d83ad0eed3a button.colab-df-convert');\n",
              "        buttonEl.style.display =\n",
              "          google.colab.kernel.accessAllowed ? 'block' : 'none';\n",
              "\n",
              "        async function convertToInteractive(key) {\n",
              "          const element = document.querySelector('#df-c5a092f9-0501-45cf-ae64-0d83ad0eed3a');\n",
              "          const dataTable =\n",
              "            await google.colab.kernel.invokeFunction('convertToInteractive',\n",
              "                                                     [key], {});\n",
              "          if (!dataTable) return;\n",
              "\n",
              "          const docLinkHtml = 'Like what you see? Visit the ' +\n",
              "            '<a target=\"_blank\" href=https://colab.research.google.com/notebooks/data_table.ipynb>data table notebook</a>'\n",
              "            + ' to learn more about interactive tables.';\n",
              "          element.innerHTML = '';\n",
              "          dataTable['output_type'] = 'display_data';\n",
              "          await google.colab.output.renderOutput(dataTable, element);\n",
              "          const docLink = document.createElement('div');\n",
              "          docLink.innerHTML = docLinkHtml;\n",
              "          element.appendChild(docLink);\n",
              "        }\n",
              "      </script>\n",
              "    </div>\n",
              "  </div>\n",
              "  "
            ]
          },
          "metadata": {},
          "execution_count": 10
        }
      ]
    },
    {
      "cell_type": "code",
      "source": [
        "# removing the \"unnamed: 0\" column\n",
        "\n",
        "train = train.drop(\"Unnamed: 0\", axis = 1)\n",
        "test = test.drop(\"Unnamed: 0\", axis = 1)"
      ],
      "metadata": {
        "id": "u1pdp00Jb6Ij"
      },
      "execution_count": null,
      "outputs": []
    },
    {
      "cell_type": "code",
      "source": [
        "train.head(3)"
      ],
      "metadata": {
        "colab": {
          "base_uri": "https://localhost:8080/",
          "height": 143
        },
        "id": "06crGTXQb-0F",
        "outputId": "f4db31be-ca0a-4d08-ec66-089e2380151a"
      },
      "execution_count": null,
      "outputs": [
        {
          "output_type": "execute_result",
          "data": {
            "text/plain": [
              "          X         Y         Z       label\n",
              "0  0.643715 -9.866550 -5.836019  307.972927\n",
              "1 -1.366446 -3.761945 -8.756162  136.398375\n",
              "2 -4.090270 -1.836218 -1.846066 -310.724813"
            ],
            "text/html": [
              "\n",
              "  <div id=\"df-b91cf443-650a-47f2-9534-d0b5267778bf\">\n",
              "    <div class=\"colab-df-container\">\n",
              "      <div>\n",
              "<style scoped>\n",
              "    .dataframe tbody tr th:only-of-type {\n",
              "        vertical-align: middle;\n",
              "    }\n",
              "\n",
              "    .dataframe tbody tr th {\n",
              "        vertical-align: top;\n",
              "    }\n",
              "\n",
              "    .dataframe thead th {\n",
              "        text-align: right;\n",
              "    }\n",
              "</style>\n",
              "<table border=\"1\" class=\"dataframe\">\n",
              "  <thead>\n",
              "    <tr style=\"text-align: right;\">\n",
              "      <th></th>\n",
              "      <th>X</th>\n",
              "      <th>Y</th>\n",
              "      <th>Z</th>\n",
              "      <th>label</th>\n",
              "    </tr>\n",
              "  </thead>\n",
              "  <tbody>\n",
              "    <tr>\n",
              "      <th>0</th>\n",
              "      <td>0.643715</td>\n",
              "      <td>-9.866550</td>\n",
              "      <td>-5.836019</td>\n",
              "      <td>307.972927</td>\n",
              "    </tr>\n",
              "    <tr>\n",
              "      <th>1</th>\n",
              "      <td>-1.366446</td>\n",
              "      <td>-3.761945</td>\n",
              "      <td>-8.756162</td>\n",
              "      <td>136.398375</td>\n",
              "    </tr>\n",
              "    <tr>\n",
              "      <th>2</th>\n",
              "      <td>-4.090270</td>\n",
              "      <td>-1.836218</td>\n",
              "      <td>-1.846066</td>\n",
              "      <td>-310.724813</td>\n",
              "    </tr>\n",
              "  </tbody>\n",
              "</table>\n",
              "</div>\n",
              "      <button class=\"colab-df-convert\" onclick=\"convertToInteractive('df-b91cf443-650a-47f2-9534-d0b5267778bf')\"\n",
              "              title=\"Convert this dataframe to an interactive table.\"\n",
              "              style=\"display:none;\">\n",
              "        \n",
              "  <svg xmlns=\"http://www.w3.org/2000/svg\" height=\"24px\"viewBox=\"0 0 24 24\"\n",
              "       width=\"24px\">\n",
              "    <path d=\"M0 0h24v24H0V0z\" fill=\"none\"/>\n",
              "    <path d=\"M18.56 5.44l.94 2.06.94-2.06 2.06-.94-2.06-.94-.94-2.06-.94 2.06-2.06.94zm-11 1L8.5 8.5l.94-2.06 2.06-.94-2.06-.94L8.5 2.5l-.94 2.06-2.06.94zm10 10l.94 2.06.94-2.06 2.06-.94-2.06-.94-.94-2.06-.94 2.06-2.06.94z\"/><path d=\"M17.41 7.96l-1.37-1.37c-.4-.4-.92-.59-1.43-.59-.52 0-1.04.2-1.43.59L10.3 9.45l-7.72 7.72c-.78.78-.78 2.05 0 2.83L4 21.41c.39.39.9.59 1.41.59.51 0 1.02-.2 1.41-.59l7.78-7.78 2.81-2.81c.8-.78.8-2.07 0-2.86zM5.41 20L4 18.59l7.72-7.72 1.47 1.35L5.41 20z\"/>\n",
              "  </svg>\n",
              "      </button>\n",
              "      \n",
              "  <style>\n",
              "    .colab-df-container {\n",
              "      display:flex;\n",
              "      flex-wrap:wrap;\n",
              "      gap: 12px;\n",
              "    }\n",
              "\n",
              "    .colab-df-convert {\n",
              "      background-color: #E8F0FE;\n",
              "      border: none;\n",
              "      border-radius: 50%;\n",
              "      cursor: pointer;\n",
              "      display: none;\n",
              "      fill: #1967D2;\n",
              "      height: 32px;\n",
              "      padding: 0 0 0 0;\n",
              "      width: 32px;\n",
              "    }\n",
              "\n",
              "    .colab-df-convert:hover {\n",
              "      background-color: #E2EBFA;\n",
              "      box-shadow: 0px 1px 2px rgba(60, 64, 67, 0.3), 0px 1px 3px 1px rgba(60, 64, 67, 0.15);\n",
              "      fill: #174EA6;\n",
              "    }\n",
              "\n",
              "    [theme=dark] .colab-df-convert {\n",
              "      background-color: #3B4455;\n",
              "      fill: #D2E3FC;\n",
              "    }\n",
              "\n",
              "    [theme=dark] .colab-df-convert:hover {\n",
              "      background-color: #434B5C;\n",
              "      box-shadow: 0px 1px 3px 1px rgba(0, 0, 0, 0.15);\n",
              "      filter: drop-shadow(0px 1px 2px rgba(0, 0, 0, 0.3));\n",
              "      fill: #FFFFFF;\n",
              "    }\n",
              "  </style>\n",
              "\n",
              "      <script>\n",
              "        const buttonEl =\n",
              "          document.querySelector('#df-b91cf443-650a-47f2-9534-d0b5267778bf button.colab-df-convert');\n",
              "        buttonEl.style.display =\n",
              "          google.colab.kernel.accessAllowed ? 'block' : 'none';\n",
              "\n",
              "        async function convertToInteractive(key) {\n",
              "          const element = document.querySelector('#df-b91cf443-650a-47f2-9534-d0b5267778bf');\n",
              "          const dataTable =\n",
              "            await google.colab.kernel.invokeFunction('convertToInteractive',\n",
              "                                                     [key], {});\n",
              "          if (!dataTable) return;\n",
              "\n",
              "          const docLinkHtml = 'Like what you see? Visit the ' +\n",
              "            '<a target=\"_blank\" href=https://colab.research.google.com/notebooks/data_table.ipynb>data table notebook</a>'\n",
              "            + ' to learn more about interactive tables.';\n",
              "          element.innerHTML = '';\n",
              "          dataTable['output_type'] = 'display_data';\n",
              "          await google.colab.output.renderOutput(dataTable, element);\n",
              "          const docLink = document.createElement('div');\n",
              "          docLink.innerHTML = docLinkHtml;\n",
              "          element.appendChild(docLink);\n",
              "        }\n",
              "      </script>\n",
              "    </div>\n",
              "  </div>\n",
              "  "
            ]
          },
          "metadata": {},
          "execution_count": 12
        }
      ]
    },
    {
      "cell_type": "code",
      "source": [
        "test.head(3)"
      ],
      "metadata": {
        "colab": {
          "base_uri": "https://localhost:8080/",
          "height": 143
        },
        "id": "1cWzsBXBcB1R",
        "outputId": "bd457b7e-43b4-4c3a-acc7-22a071fd65c6"
      },
      "execution_count": null,
      "outputs": [
        {
          "output_type": "execute_result",
          "data": {
            "text/plain": [
              "          X         Y         Z       label\n",
              "0  9.322078  0.413096  5.984731 -657.669309\n",
              "1  2.811964  6.142752  6.419237 -545.362524\n",
              "2 -2.669784  7.775091 -6.931907  -75.044187"
            ],
            "text/html": [
              "\n",
              "  <div id=\"df-4465d8fc-7a4c-4b99-9b02-b61fae35fa90\">\n",
              "    <div class=\"colab-df-container\">\n",
              "      <div>\n",
              "<style scoped>\n",
              "    .dataframe tbody tr th:only-of-type {\n",
              "        vertical-align: middle;\n",
              "    }\n",
              "\n",
              "    .dataframe tbody tr th {\n",
              "        vertical-align: top;\n",
              "    }\n",
              "\n",
              "    .dataframe thead th {\n",
              "        text-align: right;\n",
              "    }\n",
              "</style>\n",
              "<table border=\"1\" class=\"dataframe\">\n",
              "  <thead>\n",
              "    <tr style=\"text-align: right;\">\n",
              "      <th></th>\n",
              "      <th>X</th>\n",
              "      <th>Y</th>\n",
              "      <th>Z</th>\n",
              "      <th>label</th>\n",
              "    </tr>\n",
              "  </thead>\n",
              "  <tbody>\n",
              "    <tr>\n",
              "      <th>0</th>\n",
              "      <td>9.322078</td>\n",
              "      <td>0.413096</td>\n",
              "      <td>5.984731</td>\n",
              "      <td>-657.669309</td>\n",
              "    </tr>\n",
              "    <tr>\n",
              "      <th>1</th>\n",
              "      <td>2.811964</td>\n",
              "      <td>6.142752</td>\n",
              "      <td>6.419237</td>\n",
              "      <td>-545.362524</td>\n",
              "    </tr>\n",
              "    <tr>\n",
              "      <th>2</th>\n",
              "      <td>-2.669784</td>\n",
              "      <td>7.775091</td>\n",
              "      <td>-6.931907</td>\n",
              "      <td>-75.044187</td>\n",
              "    </tr>\n",
              "  </tbody>\n",
              "</table>\n",
              "</div>\n",
              "      <button class=\"colab-df-convert\" onclick=\"convertToInteractive('df-4465d8fc-7a4c-4b99-9b02-b61fae35fa90')\"\n",
              "              title=\"Convert this dataframe to an interactive table.\"\n",
              "              style=\"display:none;\">\n",
              "        \n",
              "  <svg xmlns=\"http://www.w3.org/2000/svg\" height=\"24px\"viewBox=\"0 0 24 24\"\n",
              "       width=\"24px\">\n",
              "    <path d=\"M0 0h24v24H0V0z\" fill=\"none\"/>\n",
              "    <path d=\"M18.56 5.44l.94 2.06.94-2.06 2.06-.94-2.06-.94-.94-2.06-.94 2.06-2.06.94zm-11 1L8.5 8.5l.94-2.06 2.06-.94-2.06-.94L8.5 2.5l-.94 2.06-2.06.94zm10 10l.94 2.06.94-2.06 2.06-.94-2.06-.94-.94-2.06-.94 2.06-2.06.94z\"/><path d=\"M17.41 7.96l-1.37-1.37c-.4-.4-.92-.59-1.43-.59-.52 0-1.04.2-1.43.59L10.3 9.45l-7.72 7.72c-.78.78-.78 2.05 0 2.83L4 21.41c.39.39.9.59 1.41.59.51 0 1.02-.2 1.41-.59l7.78-7.78 2.81-2.81c.8-.78.8-2.07 0-2.86zM5.41 20L4 18.59l7.72-7.72 1.47 1.35L5.41 20z\"/>\n",
              "  </svg>\n",
              "      </button>\n",
              "      \n",
              "  <style>\n",
              "    .colab-df-container {\n",
              "      display:flex;\n",
              "      flex-wrap:wrap;\n",
              "      gap: 12px;\n",
              "    }\n",
              "\n",
              "    .colab-df-convert {\n",
              "      background-color: #E8F0FE;\n",
              "      border: none;\n",
              "      border-radius: 50%;\n",
              "      cursor: pointer;\n",
              "      display: none;\n",
              "      fill: #1967D2;\n",
              "      height: 32px;\n",
              "      padding: 0 0 0 0;\n",
              "      width: 32px;\n",
              "    }\n",
              "\n",
              "    .colab-df-convert:hover {\n",
              "      background-color: #E2EBFA;\n",
              "      box-shadow: 0px 1px 2px rgba(60, 64, 67, 0.3), 0px 1px 3px 1px rgba(60, 64, 67, 0.15);\n",
              "      fill: #174EA6;\n",
              "    }\n",
              "\n",
              "    [theme=dark] .colab-df-convert {\n",
              "      background-color: #3B4455;\n",
              "      fill: #D2E3FC;\n",
              "    }\n",
              "\n",
              "    [theme=dark] .colab-df-convert:hover {\n",
              "      background-color: #434B5C;\n",
              "      box-shadow: 0px 1px 3px 1px rgba(0, 0, 0, 0.15);\n",
              "      filter: drop-shadow(0px 1px 2px rgba(0, 0, 0, 0.3));\n",
              "      fill: #FFFFFF;\n",
              "    }\n",
              "  </style>\n",
              "\n",
              "      <script>\n",
              "        const buttonEl =\n",
              "          document.querySelector('#df-4465d8fc-7a4c-4b99-9b02-b61fae35fa90 button.colab-df-convert');\n",
              "        buttonEl.style.display =\n",
              "          google.colab.kernel.accessAllowed ? 'block' : 'none';\n",
              "\n",
              "        async function convertToInteractive(key) {\n",
              "          const element = document.querySelector('#df-4465d8fc-7a4c-4b99-9b02-b61fae35fa90');\n",
              "          const dataTable =\n",
              "            await google.colab.kernel.invokeFunction('convertToInteractive',\n",
              "                                                     [key], {});\n",
              "          if (!dataTable) return;\n",
              "\n",
              "          const docLinkHtml = 'Like what you see? Visit the ' +\n",
              "            '<a target=\"_blank\" href=https://colab.research.google.com/notebooks/data_table.ipynb>data table notebook</a>'\n",
              "            + ' to learn more about interactive tables.';\n",
              "          element.innerHTML = '';\n",
              "          dataTable['output_type'] = 'display_data';\n",
              "          await google.colab.output.renderOutput(dataTable, element);\n",
              "          const docLink = document.createElement('div');\n",
              "          docLink.innerHTML = docLinkHtml;\n",
              "          element.appendChild(docLink);\n",
              "        }\n",
              "      </script>\n",
              "    </div>\n",
              "  </div>\n",
              "  "
            ]
          },
          "metadata": {},
          "execution_count": 13
        }
      ]
    },
    {
      "cell_type": "markdown",
      "source": [
        "#Training Data"
      ],
      "metadata": {
        "id": "OQmdQU3PcJHZ"
      }
    },
    {
      "cell_type": "code",
      "source": [
        "# converting train DataFrame to array\n",
        "\n",
        "train = np.array(train) \n",
        "\n",
        "# separating X, Y, Z, label\n",
        "\n",
        "X = train [:,0].reshape((train.shape[0],1))\n",
        "\n",
        "Y = train [:,1].reshape((train.shape[0],1))\n",
        "\n",
        "Z = train [:,2].reshape((train.shape[0],1))\n",
        "\n",
        "label = train [:,-1].reshape((train.shape[0],1))"
      ],
      "metadata": {
        "id": "82dMZm8rcDJG"
      },
      "execution_count": null,
      "outputs": []
    },
    {
      "cell_type": "code",
      "source": [
        "# checking the shape of X\n",
        "\n",
        "X.shape "
      ],
      "metadata": {
        "colab": {
          "base_uri": "https://localhost:8080/"
        },
        "id": "HofBXdCAjdA5",
        "outputId": "d0517b70-8e74-4997-d1a9-882e056f28a6"
      },
      "execution_count": null,
      "outputs": [
        {
          "output_type": "execute_result",
          "data": {
            "text/plain": [
              "(50000, 1)"
            ]
          },
          "metadata": {},
          "execution_count": 15
        }
      ]
    },
    {
      "cell_type": "code",
      "source": [
        "# checking the shape of Y\n",
        "\n",
        "Y.shape "
      ],
      "metadata": {
        "colab": {
          "base_uri": "https://localhost:8080/"
        },
        "id": "8xvXpNJxjvRR",
        "outputId": "044a7130-549b-4518-b30f-22c8bf816a5e"
      },
      "execution_count": null,
      "outputs": [
        {
          "output_type": "execute_result",
          "data": {
            "text/plain": [
              "(50000, 1)"
            ]
          },
          "metadata": {},
          "execution_count": 16
        }
      ]
    },
    {
      "cell_type": "code",
      "source": [
        "# checking the shape of Z\n",
        "\n",
        "Z.shape "
      ],
      "metadata": {
        "colab": {
          "base_uri": "https://localhost:8080/"
        },
        "id": "ccpiixiKjyJN",
        "outputId": "550dc59b-c45a-4fb0-d5e8-c7cf8c61e042"
      },
      "execution_count": null,
      "outputs": [
        {
          "output_type": "execute_result",
          "data": {
            "text/plain": [
              "(50000, 1)"
            ]
          },
          "metadata": {},
          "execution_count": 17
        }
      ]
    },
    {
      "cell_type": "code",
      "source": [
        "# checking the shape of label\n",
        "\n",
        "label.shape "
      ],
      "metadata": {
        "colab": {
          "base_uri": "https://localhost:8080/"
        },
        "id": "yw5L4-jzj0bk",
        "outputId": "8c18ed12-143a-4618-a26b-e618de11253d"
      },
      "execution_count": null,
      "outputs": [
        {
          "output_type": "execute_result",
          "data": {
            "text/plain": [
              "(50000, 1)"
            ]
          },
          "metadata": {},
          "execution_count": 18
        }
      ]
    },
    {
      "cell_type": "markdown",
      "source": [
        "## creating new Train dataset"
      ],
      "metadata": {
        "id": "IaX7srasxHa6"
      }
    },
    {
      "cell_type": "code",
      "source": [
        "# getting degree one matrix\n",
        "\n",
        "O = np.ones([X.shape[0],1]) # Ones Matrix\n",
        "\n",
        "deg_one = np.concatenate((O,X,Y,Z), axis = 1) # degree one polynomial\n",
        "\n",
        "pd.DataFrame(deg_one).head(3)"
      ],
      "metadata": {
        "id": "-Tz1mdeikNt-",
        "colab": {
          "base_uri": "https://localhost:8080/"
        },
        "outputId": "ce43771d-73a8-4ca5-a548-f4de25d7f599"
      },
      "execution_count": null,
      "outputs": [
        {
          "output_type": "execute_result",
          "data": {
            "text/plain": [
              "     0         1         2         3\n",
              "0  1.0  0.643715 -9.866550 -5.836019\n",
              "1  1.0 -1.366446 -3.761945 -8.756162\n",
              "2  1.0 -4.090270 -1.836218 -1.846066"
            ],
            "text/html": [
              "\n",
              "  <div id=\"df-3d7bf91b-7c1e-4ee8-8c6e-04da535343a8\">\n",
              "    <div class=\"colab-df-container\">\n",
              "      <div>\n",
              "<style scoped>\n",
              "    .dataframe tbody tr th:only-of-type {\n",
              "        vertical-align: middle;\n",
              "    }\n",
              "\n",
              "    .dataframe tbody tr th {\n",
              "        vertical-align: top;\n",
              "    }\n",
              "\n",
              "    .dataframe thead th {\n",
              "        text-align: right;\n",
              "    }\n",
              "</style>\n",
              "<table border=\"1\" class=\"dataframe\">\n",
              "  <thead>\n",
              "    <tr style=\"text-align: right;\">\n",
              "      <th></th>\n",
              "      <th>0</th>\n",
              "      <th>1</th>\n",
              "      <th>2</th>\n",
              "      <th>3</th>\n",
              "    </tr>\n",
              "  </thead>\n",
              "  <tbody>\n",
              "    <tr>\n",
              "      <th>0</th>\n",
              "      <td>1.0</td>\n",
              "      <td>0.643715</td>\n",
              "      <td>-9.866550</td>\n",
              "      <td>-5.836019</td>\n",
              "    </tr>\n",
              "    <tr>\n",
              "      <th>1</th>\n",
              "      <td>1.0</td>\n",
              "      <td>-1.366446</td>\n",
              "      <td>-3.761945</td>\n",
              "      <td>-8.756162</td>\n",
              "    </tr>\n",
              "    <tr>\n",
              "      <th>2</th>\n",
              "      <td>1.0</td>\n",
              "      <td>-4.090270</td>\n",
              "      <td>-1.836218</td>\n",
              "      <td>-1.846066</td>\n",
              "    </tr>\n",
              "  </tbody>\n",
              "</table>\n",
              "</div>\n",
              "      <button class=\"colab-df-convert\" onclick=\"convertToInteractive('df-3d7bf91b-7c1e-4ee8-8c6e-04da535343a8')\"\n",
              "              title=\"Convert this dataframe to an interactive table.\"\n",
              "              style=\"display:none;\">\n",
              "        \n",
              "  <svg xmlns=\"http://www.w3.org/2000/svg\" height=\"24px\"viewBox=\"0 0 24 24\"\n",
              "       width=\"24px\">\n",
              "    <path d=\"M0 0h24v24H0V0z\" fill=\"none\"/>\n",
              "    <path d=\"M18.56 5.44l.94 2.06.94-2.06 2.06-.94-2.06-.94-.94-2.06-.94 2.06-2.06.94zm-11 1L8.5 8.5l.94-2.06 2.06-.94-2.06-.94L8.5 2.5l-.94 2.06-2.06.94zm10 10l.94 2.06.94-2.06 2.06-.94-2.06-.94-.94-2.06-.94 2.06-2.06.94z\"/><path d=\"M17.41 7.96l-1.37-1.37c-.4-.4-.92-.59-1.43-.59-.52 0-1.04.2-1.43.59L10.3 9.45l-7.72 7.72c-.78.78-.78 2.05 0 2.83L4 21.41c.39.39.9.59 1.41.59.51 0 1.02-.2 1.41-.59l7.78-7.78 2.81-2.81c.8-.78.8-2.07 0-2.86zM5.41 20L4 18.59l7.72-7.72 1.47 1.35L5.41 20z\"/>\n",
              "  </svg>\n",
              "      </button>\n",
              "      \n",
              "  <style>\n",
              "    .colab-df-container {\n",
              "      display:flex;\n",
              "      flex-wrap:wrap;\n",
              "      gap: 12px;\n",
              "    }\n",
              "\n",
              "    .colab-df-convert {\n",
              "      background-color: #E8F0FE;\n",
              "      border: none;\n",
              "      border-radius: 50%;\n",
              "      cursor: pointer;\n",
              "      display: none;\n",
              "      fill: #1967D2;\n",
              "      height: 32px;\n",
              "      padding: 0 0 0 0;\n",
              "      width: 32px;\n",
              "    }\n",
              "\n",
              "    .colab-df-convert:hover {\n",
              "      background-color: #E2EBFA;\n",
              "      box-shadow: 0px 1px 2px rgba(60, 64, 67, 0.3), 0px 1px 3px 1px rgba(60, 64, 67, 0.15);\n",
              "      fill: #174EA6;\n",
              "    }\n",
              "\n",
              "    [theme=dark] .colab-df-convert {\n",
              "      background-color: #3B4455;\n",
              "      fill: #D2E3FC;\n",
              "    }\n",
              "\n",
              "    [theme=dark] .colab-df-convert:hover {\n",
              "      background-color: #434B5C;\n",
              "      box-shadow: 0px 1px 3px 1px rgba(0, 0, 0, 0.15);\n",
              "      filter: drop-shadow(0px 1px 2px rgba(0, 0, 0, 0.3));\n",
              "      fill: #FFFFFF;\n",
              "    }\n",
              "  </style>\n",
              "\n",
              "      <script>\n",
              "        const buttonEl =\n",
              "          document.querySelector('#df-3d7bf91b-7c1e-4ee8-8c6e-04da535343a8 button.colab-df-convert');\n",
              "        buttonEl.style.display =\n",
              "          google.colab.kernel.accessAllowed ? 'block' : 'none';\n",
              "\n",
              "        async function convertToInteractive(key) {\n",
              "          const element = document.querySelector('#df-3d7bf91b-7c1e-4ee8-8c6e-04da535343a8');\n",
              "          const dataTable =\n",
              "            await google.colab.kernel.invokeFunction('convertToInteractive',\n",
              "                                                     [key], {});\n",
              "          if (!dataTable) return;\n",
              "\n",
              "          const docLinkHtml = 'Like what you see? Visit the ' +\n",
              "            '<a target=\"_blank\" href=https://colab.research.google.com/notebooks/data_table.ipynb>data table notebook</a>'\n",
              "            + ' to learn more about interactive tables.';\n",
              "          element.innerHTML = '';\n",
              "          dataTable['output_type'] = 'display_data';\n",
              "          await google.colab.output.renderOutput(dataTable, element);\n",
              "          const docLink = document.createElement('div');\n",
              "          docLink.innerHTML = docLinkHtml;\n",
              "          element.appendChild(docLink);\n",
              "        }\n",
              "      </script>\n",
              "    </div>\n",
              "  </div>\n",
              "  "
            ]
          },
          "metadata": {},
          "execution_count": 19
        }
      ]
    },
    {
      "cell_type": "code",
      "source": [
        "# degree two polynomial\n",
        "\n",
        "# multiplying elementwise\n",
        "\n",
        "A = X * X\n",
        "\n",
        "B = Y * Y\n",
        "\n",
        "C = Z * Z\n",
        "\n",
        "D = X * Y\n",
        "\n",
        "E = Y * Z\n",
        "\n",
        "F = Z * X\n",
        "\n",
        "deg_two = np.concatenate( ( O , X , Y , Z , A , B , C , D , E , F ) , axis =1 )\n",
        "\n",
        "pd.DataFrame(deg_two).head(3)"
      ],
      "metadata": {
        "colab": {
          "base_uri": "https://localhost:8080/"
        },
        "id": "-c1fmq0O40-z",
        "outputId": "b022aab9-9c2b-4f71-dd41-8d599f936734"
      },
      "execution_count": null,
      "outputs": [
        {
          "output_type": "execute_result",
          "data": {
            "text/plain": [
              "     0         1         2         3          4          5          6  \\\n",
              "0  1.0  0.643715 -9.866550 -5.836019   0.414369  97.348811  34.059122   \n",
              "1  1.0 -1.366446 -3.761945 -8.756162   1.867174  14.152233  76.670372   \n",
              "2  1.0 -4.090270 -1.836218 -1.846066  16.730306   3.371695   3.407958   \n",
              "\n",
              "          7          8          9  \n",
              "0 -6.351248  57.581378  -3.756734  \n",
              "1  5.140495  32.940203  11.964821  \n",
              "2  7.510625   3.389778   7.550906  "
            ],
            "text/html": [
              "\n",
              "  <div id=\"df-76ef9eeb-3d19-4631-bd4f-40a75bc29275\">\n",
              "    <div class=\"colab-df-container\">\n",
              "      <div>\n",
              "<style scoped>\n",
              "    .dataframe tbody tr th:only-of-type {\n",
              "        vertical-align: middle;\n",
              "    }\n",
              "\n",
              "    .dataframe tbody tr th {\n",
              "        vertical-align: top;\n",
              "    }\n",
              "\n",
              "    .dataframe thead th {\n",
              "        text-align: right;\n",
              "    }\n",
              "</style>\n",
              "<table border=\"1\" class=\"dataframe\">\n",
              "  <thead>\n",
              "    <tr style=\"text-align: right;\">\n",
              "      <th></th>\n",
              "      <th>0</th>\n",
              "      <th>1</th>\n",
              "      <th>2</th>\n",
              "      <th>3</th>\n",
              "      <th>4</th>\n",
              "      <th>5</th>\n",
              "      <th>6</th>\n",
              "      <th>7</th>\n",
              "      <th>8</th>\n",
              "      <th>9</th>\n",
              "    </tr>\n",
              "  </thead>\n",
              "  <tbody>\n",
              "    <tr>\n",
              "      <th>0</th>\n",
              "      <td>1.0</td>\n",
              "      <td>0.643715</td>\n",
              "      <td>-9.866550</td>\n",
              "      <td>-5.836019</td>\n",
              "      <td>0.414369</td>\n",
              "      <td>97.348811</td>\n",
              "      <td>34.059122</td>\n",
              "      <td>-6.351248</td>\n",
              "      <td>57.581378</td>\n",
              "      <td>-3.756734</td>\n",
              "    </tr>\n",
              "    <tr>\n",
              "      <th>1</th>\n",
              "      <td>1.0</td>\n",
              "      <td>-1.366446</td>\n",
              "      <td>-3.761945</td>\n",
              "      <td>-8.756162</td>\n",
              "      <td>1.867174</td>\n",
              "      <td>14.152233</td>\n",
              "      <td>76.670372</td>\n",
              "      <td>5.140495</td>\n",
              "      <td>32.940203</td>\n",
              "      <td>11.964821</td>\n",
              "    </tr>\n",
              "    <tr>\n",
              "      <th>2</th>\n",
              "      <td>1.0</td>\n",
              "      <td>-4.090270</td>\n",
              "      <td>-1.836218</td>\n",
              "      <td>-1.846066</td>\n",
              "      <td>16.730306</td>\n",
              "      <td>3.371695</td>\n",
              "      <td>3.407958</td>\n",
              "      <td>7.510625</td>\n",
              "      <td>3.389778</td>\n",
              "      <td>7.550906</td>\n",
              "    </tr>\n",
              "  </tbody>\n",
              "</table>\n",
              "</div>\n",
              "      <button class=\"colab-df-convert\" onclick=\"convertToInteractive('df-76ef9eeb-3d19-4631-bd4f-40a75bc29275')\"\n",
              "              title=\"Convert this dataframe to an interactive table.\"\n",
              "              style=\"display:none;\">\n",
              "        \n",
              "  <svg xmlns=\"http://www.w3.org/2000/svg\" height=\"24px\"viewBox=\"0 0 24 24\"\n",
              "       width=\"24px\">\n",
              "    <path d=\"M0 0h24v24H0V0z\" fill=\"none\"/>\n",
              "    <path d=\"M18.56 5.44l.94 2.06.94-2.06 2.06-.94-2.06-.94-.94-2.06-.94 2.06-2.06.94zm-11 1L8.5 8.5l.94-2.06 2.06-.94-2.06-.94L8.5 2.5l-.94 2.06-2.06.94zm10 10l.94 2.06.94-2.06 2.06-.94-2.06-.94-.94-2.06-.94 2.06-2.06.94z\"/><path d=\"M17.41 7.96l-1.37-1.37c-.4-.4-.92-.59-1.43-.59-.52 0-1.04.2-1.43.59L10.3 9.45l-7.72 7.72c-.78.78-.78 2.05 0 2.83L4 21.41c.39.39.9.59 1.41.59.51 0 1.02-.2 1.41-.59l7.78-7.78 2.81-2.81c.8-.78.8-2.07 0-2.86zM5.41 20L4 18.59l7.72-7.72 1.47 1.35L5.41 20z\"/>\n",
              "  </svg>\n",
              "      </button>\n",
              "      \n",
              "  <style>\n",
              "    .colab-df-container {\n",
              "      display:flex;\n",
              "      flex-wrap:wrap;\n",
              "      gap: 12px;\n",
              "    }\n",
              "\n",
              "    .colab-df-convert {\n",
              "      background-color: #E8F0FE;\n",
              "      border: none;\n",
              "      border-radius: 50%;\n",
              "      cursor: pointer;\n",
              "      display: none;\n",
              "      fill: #1967D2;\n",
              "      height: 32px;\n",
              "      padding: 0 0 0 0;\n",
              "      width: 32px;\n",
              "    }\n",
              "\n",
              "    .colab-df-convert:hover {\n",
              "      background-color: #E2EBFA;\n",
              "      box-shadow: 0px 1px 2px rgba(60, 64, 67, 0.3), 0px 1px 3px 1px rgba(60, 64, 67, 0.15);\n",
              "      fill: #174EA6;\n",
              "    }\n",
              "\n",
              "    [theme=dark] .colab-df-convert {\n",
              "      background-color: #3B4455;\n",
              "      fill: #D2E3FC;\n",
              "    }\n",
              "\n",
              "    [theme=dark] .colab-df-convert:hover {\n",
              "      background-color: #434B5C;\n",
              "      box-shadow: 0px 1px 3px 1px rgba(0, 0, 0, 0.15);\n",
              "      filter: drop-shadow(0px 1px 2px rgba(0, 0, 0, 0.3));\n",
              "      fill: #FFFFFF;\n",
              "    }\n",
              "  </style>\n",
              "\n",
              "      <script>\n",
              "        const buttonEl =\n",
              "          document.querySelector('#df-76ef9eeb-3d19-4631-bd4f-40a75bc29275 button.colab-df-convert');\n",
              "        buttonEl.style.display =\n",
              "          google.colab.kernel.accessAllowed ? 'block' : 'none';\n",
              "\n",
              "        async function convertToInteractive(key) {\n",
              "          const element = document.querySelector('#df-76ef9eeb-3d19-4631-bd4f-40a75bc29275');\n",
              "          const dataTable =\n",
              "            await google.colab.kernel.invokeFunction('convertToInteractive',\n",
              "                                                     [key], {});\n",
              "          if (!dataTable) return;\n",
              "\n",
              "          const docLinkHtml = 'Like what you see? Visit the ' +\n",
              "            '<a target=\"_blank\" href=https://colab.research.google.com/notebooks/data_table.ipynb>data table notebook</a>'\n",
              "            + ' to learn more about interactive tables.';\n",
              "          element.innerHTML = '';\n",
              "          dataTable['output_type'] = 'display_data';\n",
              "          await google.colab.output.renderOutput(dataTable, element);\n",
              "          const docLink = document.createElement('div');\n",
              "          docLink.innerHTML = docLinkHtml;\n",
              "          element.appendChild(docLink);\n",
              "        }\n",
              "      </script>\n",
              "    </div>\n",
              "  </div>\n",
              "  "
            ]
          },
          "metadata": {},
          "execution_count": 20
        }
      ]
    },
    {
      "cell_type": "code",
      "source": [
        "# degree three polynomial\n",
        "\n",
        "# multiplying elementwise\n",
        "\n",
        "\n",
        "A = X * X * X\n",
        "\n",
        "B = Y * Y * Y\n",
        "\n",
        "C = Z * Z * Z\n",
        "\n",
        "D = X * Y * Z\n",
        "\n",
        "E = X * X * Y\n",
        "\n",
        "F = X * X * Z\n",
        "\n",
        "G = Y * Y * Z\n",
        "\n",
        "H = Y * Y * X\n",
        "\n",
        "I = Z * Z * X\n",
        "\n",
        "J = Z * Z * Y\n",
        "\n",
        "K = X * X\n",
        "\n",
        "L = Y * Y\n",
        "\n",
        "M = Z * Z\n",
        "\n",
        "N = X * Y\n",
        "\n",
        "O = Y * Z\n",
        "\n",
        "P = Z * X\n",
        "\n",
        "\n",
        "deg_three = np.concatenate( ( O , X , Y, Z,  A , B , C , D , E , F , G , H , I , J, K, L, M, N, O, P ) , axis =1 )\n",
        "\n",
        "pd.DataFrame(deg_three).head(3)"
      ],
      "metadata": {
        "colab": {
          "base_uri": "https://localhost:8080/"
        },
        "id": "UdvWw6Cd73_R",
        "outputId": "b3d2b6e7-1d0f-480f-8b93-a429d905ae7e"
      },
      "execution_count": null,
      "outputs": [
        {
          "output_type": "execute_result",
          "data": {
            "text/plain": [
              "          0         1         2         3          4           5           6   \\\n",
              "0  57.581378  0.643715 -9.866550 -5.836019   0.266736 -960.496923 -198.769700   \n",
              "1  32.940203 -1.366446 -3.761945 -8.756162  -2.551393  -53.239929 -671.338191   \n",
              "2   3.389778 -4.090270 -1.836218 -1.846066 -68.431463   -6.191165   -6.291315   \n",
              "\n",
              "          7          8          9           10         11          12  \\\n",
              "0  37.066006  -4.088395  -2.418267 -568.129550  62.664906   21.924374   \n",
              "1 -45.011004  -7.024208 -16.349280 -123.919246 -19.338260 -104.765911   \n",
              "2 -13.865106 -30.720481 -30.885243   -6.224370 -13.791141  -13.939468   \n",
              "\n",
              "           13         14         15         16        17         18         19  \n",
              "0 -336.046039   0.414369  97.348811  34.059122 -6.351248  57.581378  -3.756734  \n",
              "1 -288.429753   1.867174  14.152233  76.670372  5.140495  32.940203  11.964821  \n",
              "2   -6.257753  16.730306   3.371695   3.407958  7.510625   3.389778   7.550906  "
            ],
            "text/html": [
              "\n",
              "  <div id=\"df-80d57ac7-806c-4c77-ab6a-de3ab260d9cd\">\n",
              "    <div class=\"colab-df-container\">\n",
              "      <div>\n",
              "<style scoped>\n",
              "    .dataframe tbody tr th:only-of-type {\n",
              "        vertical-align: middle;\n",
              "    }\n",
              "\n",
              "    .dataframe tbody tr th {\n",
              "        vertical-align: top;\n",
              "    }\n",
              "\n",
              "    .dataframe thead th {\n",
              "        text-align: right;\n",
              "    }\n",
              "</style>\n",
              "<table border=\"1\" class=\"dataframe\">\n",
              "  <thead>\n",
              "    <tr style=\"text-align: right;\">\n",
              "      <th></th>\n",
              "      <th>0</th>\n",
              "      <th>1</th>\n",
              "      <th>2</th>\n",
              "      <th>3</th>\n",
              "      <th>4</th>\n",
              "      <th>5</th>\n",
              "      <th>6</th>\n",
              "      <th>7</th>\n",
              "      <th>8</th>\n",
              "      <th>9</th>\n",
              "      <th>10</th>\n",
              "      <th>11</th>\n",
              "      <th>12</th>\n",
              "      <th>13</th>\n",
              "      <th>14</th>\n",
              "      <th>15</th>\n",
              "      <th>16</th>\n",
              "      <th>17</th>\n",
              "      <th>18</th>\n",
              "      <th>19</th>\n",
              "    </tr>\n",
              "  </thead>\n",
              "  <tbody>\n",
              "    <tr>\n",
              "      <th>0</th>\n",
              "      <td>57.581378</td>\n",
              "      <td>0.643715</td>\n",
              "      <td>-9.866550</td>\n",
              "      <td>-5.836019</td>\n",
              "      <td>0.266736</td>\n",
              "      <td>-960.496923</td>\n",
              "      <td>-198.769700</td>\n",
              "      <td>37.066006</td>\n",
              "      <td>-4.088395</td>\n",
              "      <td>-2.418267</td>\n",
              "      <td>-568.129550</td>\n",
              "      <td>62.664906</td>\n",
              "      <td>21.924374</td>\n",
              "      <td>-336.046039</td>\n",
              "      <td>0.414369</td>\n",
              "      <td>97.348811</td>\n",
              "      <td>34.059122</td>\n",
              "      <td>-6.351248</td>\n",
              "      <td>57.581378</td>\n",
              "      <td>-3.756734</td>\n",
              "    </tr>\n",
              "    <tr>\n",
              "      <th>1</th>\n",
              "      <td>32.940203</td>\n",
              "      <td>-1.366446</td>\n",
              "      <td>-3.761945</td>\n",
              "      <td>-8.756162</td>\n",
              "      <td>-2.551393</td>\n",
              "      <td>-53.239929</td>\n",
              "      <td>-671.338191</td>\n",
              "      <td>-45.011004</td>\n",
              "      <td>-7.024208</td>\n",
              "      <td>-16.349280</td>\n",
              "      <td>-123.919246</td>\n",
              "      <td>-19.338260</td>\n",
              "      <td>-104.765911</td>\n",
              "      <td>-288.429753</td>\n",
              "      <td>1.867174</td>\n",
              "      <td>14.152233</td>\n",
              "      <td>76.670372</td>\n",
              "      <td>5.140495</td>\n",
              "      <td>32.940203</td>\n",
              "      <td>11.964821</td>\n",
              "    </tr>\n",
              "    <tr>\n",
              "      <th>2</th>\n",
              "      <td>3.389778</td>\n",
              "      <td>-4.090270</td>\n",
              "      <td>-1.836218</td>\n",
              "      <td>-1.846066</td>\n",
              "      <td>-68.431463</td>\n",
              "      <td>-6.191165</td>\n",
              "      <td>-6.291315</td>\n",
              "      <td>-13.865106</td>\n",
              "      <td>-30.720481</td>\n",
              "      <td>-30.885243</td>\n",
              "      <td>-6.224370</td>\n",
              "      <td>-13.791141</td>\n",
              "      <td>-13.939468</td>\n",
              "      <td>-6.257753</td>\n",
              "      <td>16.730306</td>\n",
              "      <td>3.371695</td>\n",
              "      <td>3.407958</td>\n",
              "      <td>7.510625</td>\n",
              "      <td>3.389778</td>\n",
              "      <td>7.550906</td>\n",
              "    </tr>\n",
              "  </tbody>\n",
              "</table>\n",
              "</div>\n",
              "      <button class=\"colab-df-convert\" onclick=\"convertToInteractive('df-80d57ac7-806c-4c77-ab6a-de3ab260d9cd')\"\n",
              "              title=\"Convert this dataframe to an interactive table.\"\n",
              "              style=\"display:none;\">\n",
              "        \n",
              "  <svg xmlns=\"http://www.w3.org/2000/svg\" height=\"24px\"viewBox=\"0 0 24 24\"\n",
              "       width=\"24px\">\n",
              "    <path d=\"M0 0h24v24H0V0z\" fill=\"none\"/>\n",
              "    <path d=\"M18.56 5.44l.94 2.06.94-2.06 2.06-.94-2.06-.94-.94-2.06-.94 2.06-2.06.94zm-11 1L8.5 8.5l.94-2.06 2.06-.94-2.06-.94L8.5 2.5l-.94 2.06-2.06.94zm10 10l.94 2.06.94-2.06 2.06-.94-2.06-.94-.94-2.06-.94 2.06-2.06.94z\"/><path d=\"M17.41 7.96l-1.37-1.37c-.4-.4-.92-.59-1.43-.59-.52 0-1.04.2-1.43.59L10.3 9.45l-7.72 7.72c-.78.78-.78 2.05 0 2.83L4 21.41c.39.39.9.59 1.41.59.51 0 1.02-.2 1.41-.59l7.78-7.78 2.81-2.81c.8-.78.8-2.07 0-2.86zM5.41 20L4 18.59l7.72-7.72 1.47 1.35L5.41 20z\"/>\n",
              "  </svg>\n",
              "      </button>\n",
              "      \n",
              "  <style>\n",
              "    .colab-df-container {\n",
              "      display:flex;\n",
              "      flex-wrap:wrap;\n",
              "      gap: 12px;\n",
              "    }\n",
              "\n",
              "    .colab-df-convert {\n",
              "      background-color: #E8F0FE;\n",
              "      border: none;\n",
              "      border-radius: 50%;\n",
              "      cursor: pointer;\n",
              "      display: none;\n",
              "      fill: #1967D2;\n",
              "      height: 32px;\n",
              "      padding: 0 0 0 0;\n",
              "      width: 32px;\n",
              "    }\n",
              "\n",
              "    .colab-df-convert:hover {\n",
              "      background-color: #E2EBFA;\n",
              "      box-shadow: 0px 1px 2px rgba(60, 64, 67, 0.3), 0px 1px 3px 1px rgba(60, 64, 67, 0.15);\n",
              "      fill: #174EA6;\n",
              "    }\n",
              "\n",
              "    [theme=dark] .colab-df-convert {\n",
              "      background-color: #3B4455;\n",
              "      fill: #D2E3FC;\n",
              "    }\n",
              "\n",
              "    [theme=dark] .colab-df-convert:hover {\n",
              "      background-color: #434B5C;\n",
              "      box-shadow: 0px 1px 3px 1px rgba(0, 0, 0, 0.15);\n",
              "      filter: drop-shadow(0px 1px 2px rgba(0, 0, 0, 0.3));\n",
              "      fill: #FFFFFF;\n",
              "    }\n",
              "  </style>\n",
              "\n",
              "      <script>\n",
              "        const buttonEl =\n",
              "          document.querySelector('#df-80d57ac7-806c-4c77-ab6a-de3ab260d9cd button.colab-df-convert');\n",
              "        buttonEl.style.display =\n",
              "          google.colab.kernel.accessAllowed ? 'block' : 'none';\n",
              "\n",
              "        async function convertToInteractive(key) {\n",
              "          const element = document.querySelector('#df-80d57ac7-806c-4c77-ab6a-de3ab260d9cd');\n",
              "          const dataTable =\n",
              "            await google.colab.kernel.invokeFunction('convertToInteractive',\n",
              "                                                     [key], {});\n",
              "          if (!dataTable) return;\n",
              "\n",
              "          const docLinkHtml = 'Like what you see? Visit the ' +\n",
              "            '<a target=\"_blank\" href=https://colab.research.google.com/notebooks/data_table.ipynb>data table notebook</a>'\n",
              "            + ' to learn more about interactive tables.';\n",
              "          element.innerHTML = '';\n",
              "          dataTable['output_type'] = 'display_data';\n",
              "          await google.colab.output.renderOutput(dataTable, element);\n",
              "          const docLink = document.createElement('div');\n",
              "          docLink.innerHTML = docLinkHtml;\n",
              "          element.appendChild(docLink);\n",
              "        }\n",
              "      </script>\n",
              "    </div>\n",
              "  </div>\n",
              "  "
            ]
          },
          "metadata": {},
          "execution_count": 21
        }
      ]
    },
    {
      "cell_type": "markdown",
      "source": [
        "## Training new Test data"
      ],
      "metadata": {
        "id": "uYgyHlUoBKib"
      }
    },
    {
      "cell_type": "code",
      "source": [
        "# converting test DataFrame to array\n",
        "\n",
        "test = np.array(test) \n",
        "\n",
        "# separating X_test, Y_test, Z_test, label_test\n",
        "\n",
        "X_test = test [:,0].reshape((test.shape[0],1))\n",
        "\n",
        "Y_test = test [:,1].reshape((test.shape[0],1))\n",
        "\n",
        "Z_test = test [:,2].reshape((test.shape[0],1))\n",
        "\n",
        "label_test = test [:,-1].reshape((test.shape[0],1))\n"
      ],
      "metadata": {
        "id": "VUYTy5R4BFJI"
      },
      "execution_count": null,
      "outputs": []
    },
    {
      "cell_type": "code",
      "source": [
        "# getting degree one matrix\n",
        "\n",
        "O = np.ones([X_test.shape[0],1]) # Ones Matrix\n",
        "\n",
        "deg_one_test = np.concatenate((O, X_test ,Y_test ,Z_test), axis = 1) # degree one polynomial\n",
        "\n",
        "pd.DataFrame(deg_one_test).head(3)"
      ],
      "metadata": {
        "colab": {
          "base_uri": "https://localhost:8080/"
        },
        "id": "881ZoWcDBjOA",
        "outputId": "7fe9a84b-05ea-43ab-f632-a42c3c3ad92d"
      },
      "execution_count": null,
      "outputs": [
        {
          "output_type": "execute_result",
          "data": {
            "text/plain": [
              "     0         1         2         3\n",
              "0  1.0  9.322078  0.413096  5.984731\n",
              "1  1.0  2.811964  6.142752  6.419237\n",
              "2  1.0 -2.669784  7.775091 -6.931907"
            ],
            "text/html": [
              "\n",
              "  <div id=\"df-5b256732-aa1f-4e46-a892-465661aa5c46\">\n",
              "    <div class=\"colab-df-container\">\n",
              "      <div>\n",
              "<style scoped>\n",
              "    .dataframe tbody tr th:only-of-type {\n",
              "        vertical-align: middle;\n",
              "    }\n",
              "\n",
              "    .dataframe tbody tr th {\n",
              "        vertical-align: top;\n",
              "    }\n",
              "\n",
              "    .dataframe thead th {\n",
              "        text-align: right;\n",
              "    }\n",
              "</style>\n",
              "<table border=\"1\" class=\"dataframe\">\n",
              "  <thead>\n",
              "    <tr style=\"text-align: right;\">\n",
              "      <th></th>\n",
              "      <th>0</th>\n",
              "      <th>1</th>\n",
              "      <th>2</th>\n",
              "      <th>3</th>\n",
              "    </tr>\n",
              "  </thead>\n",
              "  <tbody>\n",
              "    <tr>\n",
              "      <th>0</th>\n",
              "      <td>1.0</td>\n",
              "      <td>9.322078</td>\n",
              "      <td>0.413096</td>\n",
              "      <td>5.984731</td>\n",
              "    </tr>\n",
              "    <tr>\n",
              "      <th>1</th>\n",
              "      <td>1.0</td>\n",
              "      <td>2.811964</td>\n",
              "      <td>6.142752</td>\n",
              "      <td>6.419237</td>\n",
              "    </tr>\n",
              "    <tr>\n",
              "      <th>2</th>\n",
              "      <td>1.0</td>\n",
              "      <td>-2.669784</td>\n",
              "      <td>7.775091</td>\n",
              "      <td>-6.931907</td>\n",
              "    </tr>\n",
              "  </tbody>\n",
              "</table>\n",
              "</div>\n",
              "      <button class=\"colab-df-convert\" onclick=\"convertToInteractive('df-5b256732-aa1f-4e46-a892-465661aa5c46')\"\n",
              "              title=\"Convert this dataframe to an interactive table.\"\n",
              "              style=\"display:none;\">\n",
              "        \n",
              "  <svg xmlns=\"http://www.w3.org/2000/svg\" height=\"24px\"viewBox=\"0 0 24 24\"\n",
              "       width=\"24px\">\n",
              "    <path d=\"M0 0h24v24H0V0z\" fill=\"none\"/>\n",
              "    <path d=\"M18.56 5.44l.94 2.06.94-2.06 2.06-.94-2.06-.94-.94-2.06-.94 2.06-2.06.94zm-11 1L8.5 8.5l.94-2.06 2.06-.94-2.06-.94L8.5 2.5l-.94 2.06-2.06.94zm10 10l.94 2.06.94-2.06 2.06-.94-2.06-.94-.94-2.06-.94 2.06-2.06.94z\"/><path d=\"M17.41 7.96l-1.37-1.37c-.4-.4-.92-.59-1.43-.59-.52 0-1.04.2-1.43.59L10.3 9.45l-7.72 7.72c-.78.78-.78 2.05 0 2.83L4 21.41c.39.39.9.59 1.41.59.51 0 1.02-.2 1.41-.59l7.78-7.78 2.81-2.81c.8-.78.8-2.07 0-2.86zM5.41 20L4 18.59l7.72-7.72 1.47 1.35L5.41 20z\"/>\n",
              "  </svg>\n",
              "      </button>\n",
              "      \n",
              "  <style>\n",
              "    .colab-df-container {\n",
              "      display:flex;\n",
              "      flex-wrap:wrap;\n",
              "      gap: 12px;\n",
              "    }\n",
              "\n",
              "    .colab-df-convert {\n",
              "      background-color: #E8F0FE;\n",
              "      border: none;\n",
              "      border-radius: 50%;\n",
              "      cursor: pointer;\n",
              "      display: none;\n",
              "      fill: #1967D2;\n",
              "      height: 32px;\n",
              "      padding: 0 0 0 0;\n",
              "      width: 32px;\n",
              "    }\n",
              "\n",
              "    .colab-df-convert:hover {\n",
              "      background-color: #E2EBFA;\n",
              "      box-shadow: 0px 1px 2px rgba(60, 64, 67, 0.3), 0px 1px 3px 1px rgba(60, 64, 67, 0.15);\n",
              "      fill: #174EA6;\n",
              "    }\n",
              "\n",
              "    [theme=dark] .colab-df-convert {\n",
              "      background-color: #3B4455;\n",
              "      fill: #D2E3FC;\n",
              "    }\n",
              "\n",
              "    [theme=dark] .colab-df-convert:hover {\n",
              "      background-color: #434B5C;\n",
              "      box-shadow: 0px 1px 3px 1px rgba(0, 0, 0, 0.15);\n",
              "      filter: drop-shadow(0px 1px 2px rgba(0, 0, 0, 0.3));\n",
              "      fill: #FFFFFF;\n",
              "    }\n",
              "  </style>\n",
              "\n",
              "      <script>\n",
              "        const buttonEl =\n",
              "          document.querySelector('#df-5b256732-aa1f-4e46-a892-465661aa5c46 button.colab-df-convert');\n",
              "        buttonEl.style.display =\n",
              "          google.colab.kernel.accessAllowed ? 'block' : 'none';\n",
              "\n",
              "        async function convertToInteractive(key) {\n",
              "          const element = document.querySelector('#df-5b256732-aa1f-4e46-a892-465661aa5c46');\n",
              "          const dataTable =\n",
              "            await google.colab.kernel.invokeFunction('convertToInteractive',\n",
              "                                                     [key], {});\n",
              "          if (!dataTable) return;\n",
              "\n",
              "          const docLinkHtml = 'Like what you see? Visit the ' +\n",
              "            '<a target=\"_blank\" href=https://colab.research.google.com/notebooks/data_table.ipynb>data table notebook</a>'\n",
              "            + ' to learn more about interactive tables.';\n",
              "          element.innerHTML = '';\n",
              "          dataTable['output_type'] = 'display_data';\n",
              "          await google.colab.output.renderOutput(dataTable, element);\n",
              "          const docLink = document.createElement('div');\n",
              "          docLink.innerHTML = docLinkHtml;\n",
              "          element.appendChild(docLink);\n",
              "        }\n",
              "      </script>\n",
              "    </div>\n",
              "  </div>\n",
              "  "
            ]
          },
          "metadata": {},
          "execution_count": 23
        }
      ]
    },
    {
      "cell_type": "code",
      "source": [
        "# normalizing degree one test data\n",
        "\n",
        "# mean normalization\n",
        "\n",
        "for a in range( 1, deg_one_test.shape[1] ):\n",
        "\n",
        "  mean = np.mean( deg_one_test[:,a])\n",
        "\n",
        "  deviate = ( np.amax( deg_one_test[:,a] ) - np.amin( deg_one_test[:,a]))\n",
        "\n",
        "  for b in range(deg_one_test.shape[0]):\n",
        "\n",
        "   deg_one_test[b,a] = ( deg_one_test[b,a] - mean ) / deviate\n",
        "\n",
        "for c in range (label_test.size):\n",
        "\n",
        "  label_test[c,0] =  ( label_test[c,0] - np.mean( label_test ) ) / ( np.amax( label_test ) - np.amin( label_test ))"
      ],
      "metadata": {
        "id": "bNZvPBDRGhCx"
      },
      "execution_count": null,
      "outputs": []
    },
    {
      "cell_type": "code",
      "source": [
        "# degree two polynomial\n",
        "\n",
        "# multiplying elementwise\n",
        "\n",
        "A = X_test * X_test\n",
        "\n",
        "B = Y_test * Y_test\n",
        "\n",
        "C = Z_test * Z_test\n",
        "\n",
        "D = X_test * Y_test\n",
        "\n",
        "E = Y_test * Z_test\n",
        "\n",
        "F = Z_test * X_test\n",
        "\n",
        "deg_two_test = np.concatenate( ( O , X_test ,Y_test ,Z_test, A , B , C , D , E , F ) , axis =1 )\n",
        "\n",
        "pd.DataFrame(deg_two_test).head(3)"
      ],
      "metadata": {
        "colab": {
          "base_uri": "https://localhost:8080/"
        },
        "id": "IvVpqhJiB28n",
        "outputId": "85b24cc2-50b4-4326-b699-83b098b2e586"
      },
      "execution_count": null,
      "outputs": [
        {
          "output_type": "execute_result",
          "data": {
            "text/plain": [
              "     0         1         2         3          4          5          6  \\\n",
              "0  1.0  9.322078  0.413096  5.984731  86.901134   0.170649  35.817002   \n",
              "1  1.0  2.811964  6.142752  6.419237   7.907140  37.733401  41.206603   \n",
              "2  1.0 -2.669784  7.775091 -6.931907   7.127749  60.452038  48.051334   \n",
              "\n",
              "           7          8          9  \n",
              "0   3.850917   2.472271  55.790125  \n",
              "1  17.273196  39.431780  18.050662  \n",
              "2 -20.757816 -53.896207  18.506697  "
            ],
            "text/html": [
              "\n",
              "  <div id=\"df-65232324-e91d-441e-a88b-207fbbfbfcb0\">\n",
              "    <div class=\"colab-df-container\">\n",
              "      <div>\n",
              "<style scoped>\n",
              "    .dataframe tbody tr th:only-of-type {\n",
              "        vertical-align: middle;\n",
              "    }\n",
              "\n",
              "    .dataframe tbody tr th {\n",
              "        vertical-align: top;\n",
              "    }\n",
              "\n",
              "    .dataframe thead th {\n",
              "        text-align: right;\n",
              "    }\n",
              "</style>\n",
              "<table border=\"1\" class=\"dataframe\">\n",
              "  <thead>\n",
              "    <tr style=\"text-align: right;\">\n",
              "      <th></th>\n",
              "      <th>0</th>\n",
              "      <th>1</th>\n",
              "      <th>2</th>\n",
              "      <th>3</th>\n",
              "      <th>4</th>\n",
              "      <th>5</th>\n",
              "      <th>6</th>\n",
              "      <th>7</th>\n",
              "      <th>8</th>\n",
              "      <th>9</th>\n",
              "    </tr>\n",
              "  </thead>\n",
              "  <tbody>\n",
              "    <tr>\n",
              "      <th>0</th>\n",
              "      <td>1.0</td>\n",
              "      <td>9.322078</td>\n",
              "      <td>0.413096</td>\n",
              "      <td>5.984731</td>\n",
              "      <td>86.901134</td>\n",
              "      <td>0.170649</td>\n",
              "      <td>35.817002</td>\n",
              "      <td>3.850917</td>\n",
              "      <td>2.472271</td>\n",
              "      <td>55.790125</td>\n",
              "    </tr>\n",
              "    <tr>\n",
              "      <th>1</th>\n",
              "      <td>1.0</td>\n",
              "      <td>2.811964</td>\n",
              "      <td>6.142752</td>\n",
              "      <td>6.419237</td>\n",
              "      <td>7.907140</td>\n",
              "      <td>37.733401</td>\n",
              "      <td>41.206603</td>\n",
              "      <td>17.273196</td>\n",
              "      <td>39.431780</td>\n",
              "      <td>18.050662</td>\n",
              "    </tr>\n",
              "    <tr>\n",
              "      <th>2</th>\n",
              "      <td>1.0</td>\n",
              "      <td>-2.669784</td>\n",
              "      <td>7.775091</td>\n",
              "      <td>-6.931907</td>\n",
              "      <td>7.127749</td>\n",
              "      <td>60.452038</td>\n",
              "      <td>48.051334</td>\n",
              "      <td>-20.757816</td>\n",
              "      <td>-53.896207</td>\n",
              "      <td>18.506697</td>\n",
              "    </tr>\n",
              "  </tbody>\n",
              "</table>\n",
              "</div>\n",
              "      <button class=\"colab-df-convert\" onclick=\"convertToInteractive('df-65232324-e91d-441e-a88b-207fbbfbfcb0')\"\n",
              "              title=\"Convert this dataframe to an interactive table.\"\n",
              "              style=\"display:none;\">\n",
              "        \n",
              "  <svg xmlns=\"http://www.w3.org/2000/svg\" height=\"24px\"viewBox=\"0 0 24 24\"\n",
              "       width=\"24px\">\n",
              "    <path d=\"M0 0h24v24H0V0z\" fill=\"none\"/>\n",
              "    <path d=\"M18.56 5.44l.94 2.06.94-2.06 2.06-.94-2.06-.94-.94-2.06-.94 2.06-2.06.94zm-11 1L8.5 8.5l.94-2.06 2.06-.94-2.06-.94L8.5 2.5l-.94 2.06-2.06.94zm10 10l.94 2.06.94-2.06 2.06-.94-2.06-.94-.94-2.06-.94 2.06-2.06.94z\"/><path d=\"M17.41 7.96l-1.37-1.37c-.4-.4-.92-.59-1.43-.59-.52 0-1.04.2-1.43.59L10.3 9.45l-7.72 7.72c-.78.78-.78 2.05 0 2.83L4 21.41c.39.39.9.59 1.41.59.51 0 1.02-.2 1.41-.59l7.78-7.78 2.81-2.81c.8-.78.8-2.07 0-2.86zM5.41 20L4 18.59l7.72-7.72 1.47 1.35L5.41 20z\"/>\n",
              "  </svg>\n",
              "      </button>\n",
              "      \n",
              "  <style>\n",
              "    .colab-df-container {\n",
              "      display:flex;\n",
              "      flex-wrap:wrap;\n",
              "      gap: 12px;\n",
              "    }\n",
              "\n",
              "    .colab-df-convert {\n",
              "      background-color: #E8F0FE;\n",
              "      border: none;\n",
              "      border-radius: 50%;\n",
              "      cursor: pointer;\n",
              "      display: none;\n",
              "      fill: #1967D2;\n",
              "      height: 32px;\n",
              "      padding: 0 0 0 0;\n",
              "      width: 32px;\n",
              "    }\n",
              "\n",
              "    .colab-df-convert:hover {\n",
              "      background-color: #E2EBFA;\n",
              "      box-shadow: 0px 1px 2px rgba(60, 64, 67, 0.3), 0px 1px 3px 1px rgba(60, 64, 67, 0.15);\n",
              "      fill: #174EA6;\n",
              "    }\n",
              "\n",
              "    [theme=dark] .colab-df-convert {\n",
              "      background-color: #3B4455;\n",
              "      fill: #D2E3FC;\n",
              "    }\n",
              "\n",
              "    [theme=dark] .colab-df-convert:hover {\n",
              "      background-color: #434B5C;\n",
              "      box-shadow: 0px 1px 3px 1px rgba(0, 0, 0, 0.15);\n",
              "      filter: drop-shadow(0px 1px 2px rgba(0, 0, 0, 0.3));\n",
              "      fill: #FFFFFF;\n",
              "    }\n",
              "  </style>\n",
              "\n",
              "      <script>\n",
              "        const buttonEl =\n",
              "          document.querySelector('#df-65232324-e91d-441e-a88b-207fbbfbfcb0 button.colab-df-convert');\n",
              "        buttonEl.style.display =\n",
              "          google.colab.kernel.accessAllowed ? 'block' : 'none';\n",
              "\n",
              "        async function convertToInteractive(key) {\n",
              "          const element = document.querySelector('#df-65232324-e91d-441e-a88b-207fbbfbfcb0');\n",
              "          const dataTable =\n",
              "            await google.colab.kernel.invokeFunction('convertToInteractive',\n",
              "                                                     [key], {});\n",
              "          if (!dataTable) return;\n",
              "\n",
              "          const docLinkHtml = 'Like what you see? Visit the ' +\n",
              "            '<a target=\"_blank\" href=https://colab.research.google.com/notebooks/data_table.ipynb>data table notebook</a>'\n",
              "            + ' to learn more about interactive tables.';\n",
              "          element.innerHTML = '';\n",
              "          dataTable['output_type'] = 'display_data';\n",
              "          await google.colab.output.renderOutput(dataTable, element);\n",
              "          const docLink = document.createElement('div');\n",
              "          docLink.innerHTML = docLinkHtml;\n",
              "          element.appendChild(docLink);\n",
              "        }\n",
              "      </script>\n",
              "    </div>\n",
              "  </div>\n",
              "  "
            ]
          },
          "metadata": {},
          "execution_count": 25
        }
      ]
    },
    {
      "cell_type": "code",
      "source": [
        "# mean normalization of degree two\n",
        "\n",
        "for d in range( 1, deg_two_test.shape[1] ):\n",
        "\n",
        "  mean = np.mean( deg_two_test[:,d])\n",
        "\n",
        "  deviate = ( np.amax( deg_two_test[:,d] ) - np.amin( deg_two_test[:,d]))\n",
        "\n",
        "  for e in range(deg_two_test.shape[0]):\n",
        "\n",
        "   deg_two_test[e,d] = ( deg_two_test[e,d] - mean ) / deviate\n",
        "\n",
        "\n",
        "for f in range (label_test.size):\n",
        "\n",
        "  label_test[f,0] =  ( label_test[f,0] - np.mean( label_test ) ) / ( np.amax( label_test ) - np.amin( label_test ))"
      ],
      "metadata": {
        "id": "xAUNBMsNG6ZT"
      },
      "execution_count": null,
      "outputs": []
    },
    {
      "cell_type": "code",
      "source": [
        "# degree three polynomial\n",
        "\n",
        "# multiplying elementwise\n",
        "\n",
        "A = X_test * X_test * X_test\n",
        "\n",
        "B = Y_test * Y_test * Y_test\n",
        "\n",
        "C = Z_test * Z_test * Z_test\n",
        "\n",
        "D = X_test * Y_test * Z_test\n",
        "\n",
        "E = X_test * X_test * Y_test\n",
        "\n",
        "F = X_test * X_test * Z_test\n",
        "\n",
        "G = Y_test * Y_test * Z_test\n",
        "\n",
        "H = Y_test * Y_test * X_test\n",
        "\n",
        "I = Z_test * Z_test * X_test\n",
        "\n",
        "J = Z_test * Z_test * Y_test\n",
        "\n",
        "K = X_test * X_test\n",
        "\n",
        "L = Y_test * Y_test\n",
        "\n",
        "M = Z_test * Z_test\n",
        "\n",
        "N = X_test * Y_test\n",
        "\n",
        "O = Y_test * Z_test\n",
        "\n",
        "P = Z_test * X_test\n",
        "\n",
        "\n",
        "deg_three_test = np.concatenate( ( O , X_test ,Y_test ,Z_test, A , B , C , D , E , F , G , H , I , J, K, L, M, N, O, P ) , axis =1 )\n",
        "\n",
        "pd.DataFrame(deg_three_test).head(3)"
      ],
      "metadata": {
        "colab": {
          "base_uri": "https://localhost:8080/"
        },
        "id": "fMID9yP6CJbn",
        "outputId": "1ba78ed6-5ea0-4bda-b8f3-0e82bee590a1"
      },
      "execution_count": null,
      "outputs": [
        {
          "output_type": "execute_result",
          "data": {
            "text/plain": [
              "          0         1         2         3           4           5   \\\n",
              "0   2.472271  9.322078  0.413096  5.984731  810.099127    0.070494   \n",
              "1  39.431780  2.811964  6.142752  6.419237   22.234592  231.786917   \n",
              "2 -53.896207 -2.669784  7.775091 -6.931907  -19.029553  470.020091   \n",
              "\n",
              "           6           7          8           9           10          11  \\\n",
              "0  214.355110   23.046703  35.898550  520.079884    1.021286    1.590800   \n",
              "1  264.514947  110.880736  48.571601   50.757807  242.219639  106.104956   \n",
              "2 -333.087377  143.891252  55.418895  -49.408891 -419.047904 -161.393909   \n",
              "\n",
              "           12          13         14         15         16         17  \\\n",
              "0  333.888875   14.795876  86.901134   0.170649  35.817002   3.850917   \n",
              "1  115.871475  253.121937   7.907140  37.733401  41.206603  17.273196   \n",
              "2 -128.286702  373.603489   7.127749  60.452038  48.051334 -20.757816   \n",
              "\n",
              "          18         19  \n",
              "0   2.472271  55.790125  \n",
              "1  39.431780  18.050662  \n",
              "2 -53.896207  18.506697  "
            ],
            "text/html": [
              "\n",
              "  <div id=\"df-918e61a9-c51c-4cd8-a616-35af259ecd8e\">\n",
              "    <div class=\"colab-df-container\">\n",
              "      <div>\n",
              "<style scoped>\n",
              "    .dataframe tbody tr th:only-of-type {\n",
              "        vertical-align: middle;\n",
              "    }\n",
              "\n",
              "    .dataframe tbody tr th {\n",
              "        vertical-align: top;\n",
              "    }\n",
              "\n",
              "    .dataframe thead th {\n",
              "        text-align: right;\n",
              "    }\n",
              "</style>\n",
              "<table border=\"1\" class=\"dataframe\">\n",
              "  <thead>\n",
              "    <tr style=\"text-align: right;\">\n",
              "      <th></th>\n",
              "      <th>0</th>\n",
              "      <th>1</th>\n",
              "      <th>2</th>\n",
              "      <th>3</th>\n",
              "      <th>4</th>\n",
              "      <th>5</th>\n",
              "      <th>6</th>\n",
              "      <th>7</th>\n",
              "      <th>8</th>\n",
              "      <th>9</th>\n",
              "      <th>10</th>\n",
              "      <th>11</th>\n",
              "      <th>12</th>\n",
              "      <th>13</th>\n",
              "      <th>14</th>\n",
              "      <th>15</th>\n",
              "      <th>16</th>\n",
              "      <th>17</th>\n",
              "      <th>18</th>\n",
              "      <th>19</th>\n",
              "    </tr>\n",
              "  </thead>\n",
              "  <tbody>\n",
              "    <tr>\n",
              "      <th>0</th>\n",
              "      <td>2.472271</td>\n",
              "      <td>9.322078</td>\n",
              "      <td>0.413096</td>\n",
              "      <td>5.984731</td>\n",
              "      <td>810.099127</td>\n",
              "      <td>0.070494</td>\n",
              "      <td>214.355110</td>\n",
              "      <td>23.046703</td>\n",
              "      <td>35.898550</td>\n",
              "      <td>520.079884</td>\n",
              "      <td>1.021286</td>\n",
              "      <td>1.590800</td>\n",
              "      <td>333.888875</td>\n",
              "      <td>14.795876</td>\n",
              "      <td>86.901134</td>\n",
              "      <td>0.170649</td>\n",
              "      <td>35.817002</td>\n",
              "      <td>3.850917</td>\n",
              "      <td>2.472271</td>\n",
              "      <td>55.790125</td>\n",
              "    </tr>\n",
              "    <tr>\n",
              "      <th>1</th>\n",
              "      <td>39.431780</td>\n",
              "      <td>2.811964</td>\n",
              "      <td>6.142752</td>\n",
              "      <td>6.419237</td>\n",
              "      <td>22.234592</td>\n",
              "      <td>231.786917</td>\n",
              "      <td>264.514947</td>\n",
              "      <td>110.880736</td>\n",
              "      <td>48.571601</td>\n",
              "      <td>50.757807</td>\n",
              "      <td>242.219639</td>\n",
              "      <td>106.104956</td>\n",
              "      <td>115.871475</td>\n",
              "      <td>253.121937</td>\n",
              "      <td>7.907140</td>\n",
              "      <td>37.733401</td>\n",
              "      <td>41.206603</td>\n",
              "      <td>17.273196</td>\n",
              "      <td>39.431780</td>\n",
              "      <td>18.050662</td>\n",
              "    </tr>\n",
              "    <tr>\n",
              "      <th>2</th>\n",
              "      <td>-53.896207</td>\n",
              "      <td>-2.669784</td>\n",
              "      <td>7.775091</td>\n",
              "      <td>-6.931907</td>\n",
              "      <td>-19.029553</td>\n",
              "      <td>470.020091</td>\n",
              "      <td>-333.087377</td>\n",
              "      <td>143.891252</td>\n",
              "      <td>55.418895</td>\n",
              "      <td>-49.408891</td>\n",
              "      <td>-419.047904</td>\n",
              "      <td>-161.393909</td>\n",
              "      <td>-128.286702</td>\n",
              "      <td>373.603489</td>\n",
              "      <td>7.127749</td>\n",
              "      <td>60.452038</td>\n",
              "      <td>48.051334</td>\n",
              "      <td>-20.757816</td>\n",
              "      <td>-53.896207</td>\n",
              "      <td>18.506697</td>\n",
              "    </tr>\n",
              "  </tbody>\n",
              "</table>\n",
              "</div>\n",
              "      <button class=\"colab-df-convert\" onclick=\"convertToInteractive('df-918e61a9-c51c-4cd8-a616-35af259ecd8e')\"\n",
              "              title=\"Convert this dataframe to an interactive table.\"\n",
              "              style=\"display:none;\">\n",
              "        \n",
              "  <svg xmlns=\"http://www.w3.org/2000/svg\" height=\"24px\"viewBox=\"0 0 24 24\"\n",
              "       width=\"24px\">\n",
              "    <path d=\"M0 0h24v24H0V0z\" fill=\"none\"/>\n",
              "    <path d=\"M18.56 5.44l.94 2.06.94-2.06 2.06-.94-2.06-.94-.94-2.06-.94 2.06-2.06.94zm-11 1L8.5 8.5l.94-2.06 2.06-.94-2.06-.94L8.5 2.5l-.94 2.06-2.06.94zm10 10l.94 2.06.94-2.06 2.06-.94-2.06-.94-.94-2.06-.94 2.06-2.06.94z\"/><path d=\"M17.41 7.96l-1.37-1.37c-.4-.4-.92-.59-1.43-.59-.52 0-1.04.2-1.43.59L10.3 9.45l-7.72 7.72c-.78.78-.78 2.05 0 2.83L4 21.41c.39.39.9.59 1.41.59.51 0 1.02-.2 1.41-.59l7.78-7.78 2.81-2.81c.8-.78.8-2.07 0-2.86zM5.41 20L4 18.59l7.72-7.72 1.47 1.35L5.41 20z\"/>\n",
              "  </svg>\n",
              "      </button>\n",
              "      \n",
              "  <style>\n",
              "    .colab-df-container {\n",
              "      display:flex;\n",
              "      flex-wrap:wrap;\n",
              "      gap: 12px;\n",
              "    }\n",
              "\n",
              "    .colab-df-convert {\n",
              "      background-color: #E8F0FE;\n",
              "      border: none;\n",
              "      border-radius: 50%;\n",
              "      cursor: pointer;\n",
              "      display: none;\n",
              "      fill: #1967D2;\n",
              "      height: 32px;\n",
              "      padding: 0 0 0 0;\n",
              "      width: 32px;\n",
              "    }\n",
              "\n",
              "    .colab-df-convert:hover {\n",
              "      background-color: #E2EBFA;\n",
              "      box-shadow: 0px 1px 2px rgba(60, 64, 67, 0.3), 0px 1px 3px 1px rgba(60, 64, 67, 0.15);\n",
              "      fill: #174EA6;\n",
              "    }\n",
              "\n",
              "    [theme=dark] .colab-df-convert {\n",
              "      background-color: #3B4455;\n",
              "      fill: #D2E3FC;\n",
              "    }\n",
              "\n",
              "    [theme=dark] .colab-df-convert:hover {\n",
              "      background-color: #434B5C;\n",
              "      box-shadow: 0px 1px 3px 1px rgba(0, 0, 0, 0.15);\n",
              "      filter: drop-shadow(0px 1px 2px rgba(0, 0, 0, 0.3));\n",
              "      fill: #FFFFFF;\n",
              "    }\n",
              "  </style>\n",
              "\n",
              "      <script>\n",
              "        const buttonEl =\n",
              "          document.querySelector('#df-918e61a9-c51c-4cd8-a616-35af259ecd8e button.colab-df-convert');\n",
              "        buttonEl.style.display =\n",
              "          google.colab.kernel.accessAllowed ? 'block' : 'none';\n",
              "\n",
              "        async function convertToInteractive(key) {\n",
              "          const element = document.querySelector('#df-918e61a9-c51c-4cd8-a616-35af259ecd8e');\n",
              "          const dataTable =\n",
              "            await google.colab.kernel.invokeFunction('convertToInteractive',\n",
              "                                                     [key], {});\n",
              "          if (!dataTable) return;\n",
              "\n",
              "          const docLinkHtml = 'Like what you see? Visit the ' +\n",
              "            '<a target=\"_blank\" href=https://colab.research.google.com/notebooks/data_table.ipynb>data table notebook</a>'\n",
              "            + ' to learn more about interactive tables.';\n",
              "          element.innerHTML = '';\n",
              "          dataTable['output_type'] = 'display_data';\n",
              "          await google.colab.output.renderOutput(dataTable, element);\n",
              "          const docLink = document.createElement('div');\n",
              "          docLink.innerHTML = docLinkHtml;\n",
              "          element.appendChild(docLink);\n",
              "        }\n",
              "      </script>\n",
              "    </div>\n",
              "  </div>\n",
              "  "
            ]
          },
          "metadata": {},
          "execution_count": 27
        }
      ]
    },
    {
      "cell_type": "code",
      "source": [
        "# mean normalization of degree three\n",
        "\n",
        "for g in range( 1, deg_three_test.shape[1] ):\n",
        "\n",
        "  mean = np.mean( deg_three_test[:,g])\n",
        "\n",
        "  deviate = ( np.amax( deg_three_test[:,g] ) - np.amin( deg_three_test[:,g]))\n",
        "\n",
        "  for h in range(deg_three_test.shape[0]):\n",
        "\n",
        "    deg_three_test[h,g] = ( deg_three_test[h,g] - mean ) / deviate\n",
        "\n",
        "\n",
        "for i in range (label_test.size):\n",
        "\n",
        "  label_test[i,0] =  ( label_test[i,0] - np.mean( label_test ) ) / ( np.amax( label_test ) - np.amin( label_test ))"
      ],
      "metadata": {
        "id": "ENwhhwdnHFJA"
      },
      "execution_count": null,
      "outputs": []
    },
    {
      "cell_type": "markdown",
      "source": [
        "## Function"
      ],
      "metadata": {
        "id": "7og5N53_yQa2"
      }
    },
    {
      "cell_type": "markdown",
      "source": [
        "### Degree One"
      ],
      "metadata": {
        "id": "6KWDyVaP-dxT"
      }
    },
    {
      "cell_type": "code",
      "source": [
        "def one (deg_one, label, alpha, iteration):\n",
        "\n",
        "  m = label.size # training set length\n",
        "\n",
        "  theta = np.zeros( (deg_one.shape[1] , 1) ) # initializing theta\n",
        "\n",
        "  cost_list = [] # to store cost Function\n",
        "\n",
        "  # mean normalization\n",
        "\n",
        "  for i in range( 1, deg_one.shape[1] ):\n",
        "\n",
        "     mean = np.mean( deg_one[:,i])\n",
        "\n",
        "     deviate = ( np.amax( deg_one[:,i] ) - np.amin( deg_one[:,i]))\n",
        "\n",
        "     for j in range(deg_one.shape[0]):\n",
        "\n",
        "       deg_one[j,i] = ( deg_one[j,i] - mean ) / deviate\n",
        "\n",
        "\n",
        "  for k in range (label.size):\n",
        "\n",
        "    label[k,0] =  ( label[k,0] - np.mean( label ) ) / ( np.amax( label ) - np.amin( label ))\n",
        "  \n",
        "\n",
        "  for z in range(iteration): \n",
        "\n",
        "   \n",
        "\n",
        "      label_pred = np.dot(deg_one, theta) # hypothesis\n",
        "\n",
        "      cost = (1/(2*m))* np.sum(np.square(label_pred - label)) # Cost Function\n",
        "\n",
        "      d_cost = (1/m)* np.sum(np.dot(deg_one.T, (label_pred - label) )) # differentiating Cost Function w.r.t Theta\n",
        "\n",
        "      temp = theta # storing theta in a temp variable\n",
        "\n",
        "      temp = theta - alpha * d_cost # calculating new temp\n",
        "\n",
        "      theta = temp # updating theta\n",
        "\n",
        "      cost_list.append(cost) # updating cost Function list\n",
        "\n",
        "\n",
        "      # to see if cost is decreasing\n",
        "\n",
        "      if z % 2000 == 0:\n",
        "        print(\"Cost is\", cost)\n",
        "\n",
        "      \n",
        "\n",
        "  return theta , cost_list"
      ],
      "metadata": {
        "id": "0Ivd3BFwyB4H"
      },
      "execution_count": null,
      "outputs": []
    },
    {
      "cell_type": "code",
      "source": [
        "iteration = 10000\n",
        "\n",
        "alpha = 0.001\n",
        "\n",
        "theta1 , cost_list = one (deg_one, label, alpha = alpha, iteration = iteration)"
      ],
      "metadata": {
        "colab": {
          "base_uri": "https://localhost:8080/"
        },
        "id": "dwAWXO2q_PmB",
        "outputId": "8918d2c1-6900-4d5a-81ab-cdc89eb889bb"
      },
      "execution_count": null,
      "outputs": [
        {
          "output_type": "stream",
          "name": "stdout",
          "text": [
            "Cost is 0.009762595159268863\n",
            "Cost is 0.009762109484846201\n",
            "Cost is 0.00976210494362856\n",
            "Cost is 0.009762104901166661\n",
            "Cost is 0.009762104900769628\n"
          ]
        }
      ]
    },
    {
      "cell_type": "code",
      "source": [
        "iter = np.arange( 0, iteration)\n",
        "plt.plot(iter, cost_list)\n",
        "plt.show()"
      ],
      "metadata": {
        "colab": {
          "base_uri": "https://localhost:8080/"
        },
        "id": "ti9kNROU_Wga",
        "outputId": "54ef5f58-5acb-4d39-974d-aee8aac4ee49"
      },
      "execution_count": null,
      "outputs": [
        {
          "output_type": "display_data",
          "data": {
            "text/plain": [
              "<Figure size 432x288 with 1 Axes>"
            ],
            "image/png": "[encoded data removed]"
          },
          "metadata": {
            "needs_background": "light"
          }
        }
      ]
    },
    {
      "cell_type": "markdown",
      "source": [
        "### Degree two"
      ],
      "metadata": {
        "id": "6ERcT4ty_rQw"
      }
    },
    {
      "cell_type": "code",
      "source": [
        "def two (deg_two, label, alpha, iteration):\n",
        "\n",
        "  m = label.size # training set length\n",
        "\n",
        "  theta = np.zeros( (deg_two.shape[1] , 1) ) # initializing theta\n",
        "\n",
        "  cost_list = [] # to store cost Function\n",
        "\n",
        "  # mean normalization\n",
        "\n",
        "  for i in range( 1, deg_two.shape[1] ):\n",
        "\n",
        "     mean = np.mean( deg_two[:,i])\n",
        "\n",
        "     deviate = ( np.amax( deg_two[:,i] ) - np.amin( deg_two[:,i]))\n",
        "\n",
        "     for j in range(deg_two.shape[0]):\n",
        "\n",
        "       deg_two[j,i] = ( deg_two[j,i] - mean ) / deviate\n",
        "\n",
        "\n",
        "  for k in range (label.size):\n",
        "\n",
        "    label[k,0] =  ( label[k,0] - np.mean( label ) ) / ( np.amax( label ) - np.amin( label ))\n",
        "  \n",
        "\n",
        "  for z in range(iteration): \n",
        "\n",
        "   \n",
        "\n",
        "      label_pred = np.dot(deg_two, theta) # hypothesis\n",
        "\n",
        "      cost = (1/(2*m))* np.sum(np.square(label_pred - label)) # Cost Function\n",
        "\n",
        "      d_cost = (1/m)* np.sum(np.dot(deg_two.T, (label_pred - label) )) # differentiating Cost Function w.r.t Theta\n",
        "\n",
        "      temp = theta # storing theta in a temp variable\n",
        "\n",
        "      temp = theta - alpha * d_cost # calculating new temp\n",
        "\n",
        "      theta = temp # updating theta\n",
        "\n",
        "      cost_list.append(cost) # updating cost Function list\n",
        "\n",
        "\n",
        "      # to see if cost is decreasing\n",
        "\n",
        "      if z % 2000 == 0:\n",
        "        print(\"Cost is\", cost)\n",
        "\n",
        "      \n",
        "\n",
        "  return theta , cost_list"
      ],
      "metadata": {
        "id": "E3hlEHmY_qcY"
      },
      "execution_count": null,
      "outputs": []
    },
    {
      "cell_type": "code",
      "source": [
        "iteration = 10000\n",
        "\n",
        "alpha = 0.001\n",
        "\n",
        "theta2 , cost_list = two (deg_two, label, alpha = alpha, iteration = iteration)"
      ],
      "metadata": {
        "colab": {
          "base_uri": "https://localhost:8080/"
        },
        "id": "dI8z96Qi_ezG",
        "outputId": "97f2ac77-6ad3-4e05-dc3e-7284db54a52b"
      },
      "execution_count": null,
      "outputs": [
        {
          "output_type": "stream",
          "name": "stdout",
          "text": [
            "Cost is 0.0039046397845334223\n",
            "Cost is 0.003880262036875561\n",
            "Cost is 0.0038801515362720277\n",
            "Cost is 0.0038801510353896835\n",
            "Cost is 0.003880151033119261\n"
          ]
        }
      ]
    },
    {
      "cell_type": "code",
      "source": [
        "iter = np.arange( 0, iteration)\n",
        "plt.plot(iter, cost_list)\n",
        "plt.show()"
      ],
      "metadata": {
        "colab": {
          "base_uri": "https://localhost:8080/"
        },
        "id": "aYcEp0xDARcM",
        "outputId": "fa53cb75-9187-411c-ca5a-2c712df518c4"
      },
      "execution_count": null,
      "outputs": [
        {
          "output_type": "display_data",
          "data": {
            "text/plain": [
              "<Figure size 432x288 with 1 Axes>"
            ],
            "image/png": "[encoded data removed]"
          },
          "metadata": {
            "needs_background": "light"
          }
        }
      ]
    },
    {
      "cell_type": "markdown",
      "source": [
        "### Degree Three"
      ],
      "metadata": {
        "id": "3qqQNTOBA26-"
      }
    },
    {
      "cell_type": "code",
      "source": [
        "def three (deg_three, label, alpha, iteration):\n",
        "\n",
        "  m = label.size # training set length\n",
        "\n",
        "  theta = np.zeros( (deg_three.shape[1] , 1) ) # initializing theta\n",
        "\n",
        "  cost_list = [] # to store cost Function\n",
        "\n",
        "  # mean normalization\n",
        "\n",
        "  for i in range( 1, deg_three.shape[1] ):\n",
        "\n",
        "     mean = np.mean( deg_three[:,i])\n",
        "\n",
        "     deviate = ( np.amax( deg_three[:,i] ) - np.amin( deg_three[:,i]))\n",
        "\n",
        "     for j in range(deg_three.shape[0]):\n",
        "\n",
        "       deg_three[j,i] = ( deg_three[j,i] - mean ) / deviate\n",
        "\n",
        "\n",
        "  for k in range (label.size):\n",
        "\n",
        "    label[k,0] =  ( label[k,0] - np.mean( label ) ) / ( np.amax( label ) - np.amin( label ))\n",
        "  \n",
        "\n",
        "  for z in range(iteration): \n",
        "\n",
        "   \n",
        "\n",
        "      label_pred = np.dot(deg_three, theta) # hypothesis\n",
        "\n",
        "      cost = (1/(2*m))* np.sum(np.square(label_pred - label)) # Cost Function\n",
        "\n",
        "      d_cost = (1/m)* np.sum(np.dot(deg_three.T, (label_pred - label) )) # differentiating Cost Function w.r.t Theta\n",
        "\n",
        "      temp = theta # storing theta in a temp variable\n",
        "\n",
        "      temp = theta - alpha * d_cost # calculating new temp\n",
        "\n",
        "      theta = temp # updating theta\n",
        "\n",
        "      cost_list.append(cost) # updating cost Function list\n",
        "\n",
        "\n",
        "      # to see if cost is decreasing\n",
        "\n",
        "      if z % 2000 == 0:\n",
        "        print(\"Cost is\", cost)\n",
        "\n",
        "      \n",
        "\n",
        "  return theta , cost_list"
      ],
      "metadata": {
        "id": "66StbY3fAvn3"
      },
      "execution_count": null,
      "outputs": []
    },
    {
      "cell_type": "code",
      "source": [
        "iteration = 10000\n",
        "\n",
        "alpha = 0.001\n",
        "\n",
        "theta3 , cost_list = three (deg_three, label, alpha = alpha, iteration = iteration)"
      ],
      "metadata": {
        "colab": {
          "base_uri": "https://localhost:8080/"
        },
        "id": "UrodGbIPAaOB",
        "outputId": "5a0817e2-d3cf-4933-a3a7-732d95c42b07"
      },
      "execution_count": null,
      "outputs": [
        {
          "output_type": "stream",
          "name": "stdout",
          "text": [
            "Cost is 0.0032332572169889258\n",
            "Cost is 0.003105822436911877\n",
            "Cost is 0.003105822436911877\n",
            "Cost is 0.003105822436911877\n",
            "Cost is 0.003105822436911877\n"
          ]
        }
      ]
    },
    {
      "cell_type": "code",
      "source": [
        "iter = np.arange( 0, iteration)\n",
        "plt.plot(iter, cost_list)\n",
        "plt.show()"
      ],
      "metadata": {
        "colab": {
          "base_uri": "https://localhost:8080/"
        },
        "id": "gRTVmEN0ASB5",
        "outputId": "56f6227c-91a2-4208-81dc-5684d9469c62"
      },
      "execution_count": null,
      "outputs": [
        {
          "output_type": "display_data",
          "data": {
            "text/plain": [
              "<Figure size 432x288 with 1 Axes>"
            ],
            "image/png": "[encoded data removed]"
          },
          "metadata": {
            "needs_background": "light"
          }
        }
      ]
    },
    {
      "cell_type": "markdown",
      "source": [
        "# Error"
      ],
      "metadata": {
        "id": "NEduUYRUBDsw"
      }
    },
    {
      "cell_type": "markdown",
      "source": [
        "## Checking error for degree one"
      ],
      "metadata": {
        "id": "rl_YHim-C515"
      }
    },
    {
      "cell_type": "code",
      "source": [
        "label_test_pred = np.dot(deg_one_test, theta1)\n",
        "\n",
        "m = label_test.size\n",
        "\n",
        "error1 = (1/m)*np.sum(np.abs(label_test_pred - label_test))\n",
        "\n",
        "rms_error1 = np.sqrt( np.mean( (label_test_pred - label_test) **2 ))\n",
        "\n",
        "print(rms_error1)\n",
        "\n",
        "print(error1)"
      ],
      "metadata": {
        "colab": {
          "base_uri": "https://localhost:8080/"
        },
        "id": "5Qrcgl7pENLz",
        "outputId": "c76363db-96c0-4a87-f05d-c8bb949ce714"
      },
      "execution_count": null,
      "outputs": [
        {
          "output_type": "stream",
          "name": "stdout",
          "text": [
            "0.08532044481539053\n",
            "0.061482298264523685\n"
          ]
        }
      ]
    },
    {
      "cell_type": "markdown",
      "source": [
        "## Checking error for degree two\n",
        "\n",
        "\n"
      ],
      "metadata": {
        "id": "yDwTHTR0rmLn"
      }
    },
    {
      "cell_type": "code",
      "source": [
        "label_test_pred = np.dot(deg_two_test, theta2)\n",
        "\n",
        "m = label_test.size\n",
        "\n",
        "error2 = (1/m)*np.sum(np.abs(label_test_pred - label_test))\n",
        "\n",
        "rms_error2 = np.sqrt( np.mean( (label_test_pred - label_test) **2 ))\n",
        "\n",
        "print(rms_error2)\n",
        "\n",
        "print(error2)"
      ],
      "metadata": {
        "colab": {
          "base_uri": "https://localhost:8080/"
        },
        "id": "eQRFzDq5FRDL",
        "outputId": "29698418-39d1-45db-c1ff-a6895899eda5"
      },
      "execution_count": null,
      "outputs": [
        {
          "output_type": "stream",
          "name": "stdout",
          "text": [
            "0.0846598280145995\n",
            "0.060688234028739796\n"
          ]
        }
      ]
    },
    {
      "cell_type": "markdown",
      "source": [
        "## Checking error for degree three\n",
        "\n"
      ],
      "metadata": {
        "id": "tKqxde_Frq5q"
      }
    },
    {
      "cell_type": "code",
      "source": [
        "label_test_pred = np.dot(deg_three_test, theta3)\n",
        "\n",
        "m = label_test.size\n",
        "\n",
        "error3 = (1/m)*np.sum(np.abs(label_test_pred - label_test))\n",
        "\n",
        "rms_error3 = np.sqrt( np.mean( (label_test_pred - label_test) **2 ))\n",
        "\n",
        "print(rms_error3)\n",
        "\n",
        "print(error3)"
      ],
      "metadata": {
        "colab": {
          "base_uri": "https://localhost:8080/"
        },
        "id": "fdRg4_hWFXJF",
        "outputId": "af3995d7-a5c8-4e7d-d9fb-00d5645f4b53"
      },
      "execution_count": null,
      "outputs": [
        {
          "output_type": "stream",
          "name": "stdout",
          "text": [
            "0.08362956220538188\n",
            "0.06093580952073737\n"
          ]
        }
      ]
    },
    {
      "cell_type": "markdown",
      "source": [
        "# Results"
      ],
      "metadata": {
        "id": "ZiKk1JeJanKY"
      }
    },
    {
      "cell_type": "code",
      "source": [
        "print(\"RMS error for degree 1:\",rms_error1)\n",
        "print(\"RMS error for degree 2:\",rms_error2)\n",
        "print(\"RMS error for degree 3:\",rms_error3)"
      ],
      "metadata": {
        "colab": {
          "base_uri": "https://localhost:8080/"
        },
        "id": "9bJLES9YcJgE",
        "outputId": "28a25fd1-8e24-43a9-81cc-84d77d32ac4b"
      },
      "execution_count": null,
      "outputs": [
        {
          "output_type": "stream",
          "name": "stdout",
          "text": [
            "RMS error for degree 1: 0.08532044481539053\n",
            "RMS error for degree 2: 0.0846598280145995\n",
            "RMS error for degree 3: 0.08362956220538188\n"
          ]
        }
      ]
    },
    {
      "cell_type": "code",
      "source": [
        "if rms_error1 < rms_error2 and rms_error1 < rms_error3:\n",
        "  print(\"Our algorithm works best for Degree 1\")\n",
        "\n",
        "elif rms_error2 < rms_error3 and rms_error2 < rms_error1:\n",
        "  print(\"Our algorithm works best for Degree 2\")\n",
        "\n",
        "else:\n",
        "  print(\"Our algorithm works best for Degree 3\")"
      ],
      "metadata": {
        "colab": {
          "base_uri": "https://localhost:8080/"
        },
        "id": "Ym25pgG4KpaZ",
        "outputId": "c19bd83f-7237-4a5a-a7b0-dbadefd4b77f"
      },
      "execution_count": null,
      "outputs": [
        {
          "output_type": "stream",
          "name": "stdout",
          "text": [
            "Our algorithm works best for Degree 3\n"
          ]
        }
      ]
    }
  ]
}