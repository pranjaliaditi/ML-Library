{
  "nbformat": 4,
  "nbformat_minor": 0,
  "metadata": {
    "colab": {
      "name": "KNN (Complete) .ipynb",
      "provenance": [],
      "collapsed_sections": []
    },
    "kernelspec": {
      "name": "python3",
      "display_name": "Python 3"
    },
    "language_info": {
      "name": "python"
    }
  },
  "cells": [
    {
      "cell_type": "markdown",
      "source": [
        "#Importing Libraries"
      ],
      "metadata": {
        "id": "7rAEEXxIOeyv"
      }
    },
    {
      "cell_type": "code",
      "execution_count": null,
      "metadata": {
        "id": "TiTZM5Lx8tFz"
      },
      "outputs": [],
      "source": [
        "import numpy as np\n",
        "import pandas as pd\n",
        "import matplotlib.pyplot as plt"
      ]
    },
    {
      "cell_type": "code",
      "source": [
        "from google.colab import drive\n",
        "drive.mount('/content/drive')"
      ],
      "metadata": {
        "colab": {
          "base_uri": "https://localhost:8080/",
          "height": 328
        },
        "id": "qmmgZeEbOrtW",
        "outputId": "11ae1779-275e-46c8-dfc2-104f8db7eddf"
      },
      "execution_count": null,
      "outputs": [
        {
          "output_type": "error",
          "ename": "MessageError",
          "evalue": "ignored",
          "traceback": [
            "\u001b[0;31m---------------------------------------------------------------------------\u001b[0m",
            "\u001b[0;31mMessageError\u001b[0m                              Traceback (most recent call last)",
            "\u001b[0;32m<ipython-input-3-d5df0069828e>\u001b[0m in \u001b[0;36m<module>\u001b[0;34m()\u001b[0m\n\u001b[1;32m      1\u001b[0m \u001b[0;32mfrom\u001b[0m \u001b[0mgoogle\u001b[0m\u001b[0;34m.\u001b[0m\u001b[0mcolab\u001b[0m \u001b[0;32mimport\u001b[0m \u001b[0mdrive\u001b[0m\u001b[0;34m\u001b[0m\u001b[0;34m\u001b[0m\u001b[0m\n\u001b[0;32m----> 2\u001b[0;31m \u001b[0mdrive\u001b[0m\u001b[0;34m.\u001b[0m\u001b[0mmount\u001b[0m\u001b[0;34m(\u001b[0m\u001b[0;34m'/content/drive'\u001b[0m\u001b[0;34m)\u001b[0m\u001b[0;34m\u001b[0m\u001b[0;34m\u001b[0m\u001b[0m\n\u001b[0m",
            "\u001b[0;32m/usr/local/lib/python3.7/dist-packages/google/colab/drive.py\u001b[0m in \u001b[0;36mmount\u001b[0;34m(mountpoint, force_remount, timeout_ms)\u001b[0m\n\u001b[1;32m    107\u001b[0m       \u001b[0mforce_remount\u001b[0m\u001b[0;34m=\u001b[0m\u001b[0mforce_remount\u001b[0m\u001b[0;34m,\u001b[0m\u001b[0;34m\u001b[0m\u001b[0;34m\u001b[0m\u001b[0m\n\u001b[1;32m    108\u001b[0m       \u001b[0mtimeout_ms\u001b[0m\u001b[0;34m=\u001b[0m\u001b[0mtimeout_ms\u001b[0m\u001b[0;34m,\u001b[0m\u001b[0;34m\u001b[0m\u001b[0;34m\u001b[0m\u001b[0m\n\u001b[0;32m--> 109\u001b[0;31m       ephemeral=True)\n\u001b[0m\u001b[1;32m    110\u001b[0m \u001b[0;34m\u001b[0m\u001b[0m\n\u001b[1;32m    111\u001b[0m \u001b[0;34m\u001b[0m\u001b[0m\n",
            "\u001b[0;32m/usr/local/lib/python3.7/dist-packages/google/colab/drive.py\u001b[0m in \u001b[0;36m_mount\u001b[0;34m(mountpoint, force_remount, timeout_ms, ephemeral)\u001b[0m\n\u001b[1;32m    126\u001b[0m   \u001b[0;32mif\u001b[0m \u001b[0mephemeral\u001b[0m\u001b[0;34m:\u001b[0m\u001b[0;34m\u001b[0m\u001b[0;34m\u001b[0m\u001b[0m\n\u001b[1;32m    127\u001b[0m     _message.blocking_request(\n\u001b[0;32m--> 128\u001b[0;31m         'request_auth', request={'authType': 'dfs_ephemeral'}, timeout_sec=None)\n\u001b[0m\u001b[1;32m    129\u001b[0m \u001b[0;34m\u001b[0m\u001b[0m\n\u001b[1;32m    130\u001b[0m   \u001b[0mmountpoint\u001b[0m \u001b[0;34m=\u001b[0m \u001b[0m_os\u001b[0m\u001b[0;34m.\u001b[0m\u001b[0mpath\u001b[0m\u001b[0;34m.\u001b[0m\u001b[0mexpanduser\u001b[0m\u001b[0;34m(\u001b[0m\u001b[0mmountpoint\u001b[0m\u001b[0;34m)\u001b[0m\u001b[0;34m\u001b[0m\u001b[0;34m\u001b[0m\u001b[0m\n",
            "\u001b[0;32m/usr/local/lib/python3.7/dist-packages/google/colab/_message.py\u001b[0m in \u001b[0;36mblocking_request\u001b[0;34m(request_type, request, timeout_sec, parent)\u001b[0m\n\u001b[1;32m    173\u001b[0m   request_id = send_request(\n\u001b[1;32m    174\u001b[0m       request_type, request, parent=parent, expect_reply=True)\n\u001b[0;32m--> 175\u001b[0;31m   \u001b[0;32mreturn\u001b[0m \u001b[0mread_reply_from_input\u001b[0m\u001b[0;34m(\u001b[0m\u001b[0mrequest_id\u001b[0m\u001b[0;34m,\u001b[0m \u001b[0mtimeout_sec\u001b[0m\u001b[0;34m)\u001b[0m\u001b[0;34m\u001b[0m\u001b[0;34m\u001b[0m\u001b[0m\n\u001b[0m",
            "\u001b[0;32m/usr/local/lib/python3.7/dist-packages/google/colab/_message.py\u001b[0m in \u001b[0;36mread_reply_from_input\u001b[0;34m(message_id, timeout_sec)\u001b[0m\n\u001b[1;32m    104\u001b[0m         reply.get('colab_msg_id') == message_id):\n\u001b[1;32m    105\u001b[0m       \u001b[0;32mif\u001b[0m \u001b[0;34m'error'\u001b[0m \u001b[0;32min\u001b[0m \u001b[0mreply\u001b[0m\u001b[0;34m:\u001b[0m\u001b[0;34m\u001b[0m\u001b[0;34m\u001b[0m\u001b[0m\n\u001b[0;32m--> 106\u001b[0;31m         \u001b[0;32mraise\u001b[0m \u001b[0mMessageError\u001b[0m\u001b[0;34m(\u001b[0m\u001b[0mreply\u001b[0m\u001b[0;34m[\u001b[0m\u001b[0;34m'error'\u001b[0m\u001b[0;34m]\u001b[0m\u001b[0;34m)\u001b[0m\u001b[0;34m\u001b[0m\u001b[0;34m\u001b[0m\u001b[0m\n\u001b[0m\u001b[1;32m    107\u001b[0m       \u001b[0;32mreturn\u001b[0m \u001b[0mreply\u001b[0m\u001b[0;34m.\u001b[0m\u001b[0mget\u001b[0m\u001b[0;34m(\u001b[0m\u001b[0;34m'data'\u001b[0m\u001b[0;34m,\u001b[0m \u001b[0;32mNone\u001b[0m\u001b[0;34m)\u001b[0m\u001b[0;34m\u001b[0m\u001b[0;34m\u001b[0m\u001b[0m\n\u001b[1;32m    108\u001b[0m \u001b[0;34m\u001b[0m\u001b[0m\n",
            "\u001b[0;31mMessageError\u001b[0m: Error: credential propagation was unsuccessful"
          ]
        }
      ]
    },
    {
      "cell_type": "code",
      "source": [
        "%cd /content/drive/MyDrive\n",
        "!mkdir logistic_data"
      ],
      "metadata": {
        "id": "GNczwifIOx1P"
      },
      "execution_count": null,
      "outputs": []
    },
    {
      "cell_type": "code",
      "source": [
        "!pwd"
      ],
      "metadata": {
        "id": "00D3BUTwO9E3"
      },
      "execution_count": null,
      "outputs": []
    },
    {
      "cell_type": "code",
      "source": [
        "train_path = '/content/drive/MyDrive/logistic_data/emnist-letters-train.csv'\n",
        "test_path = '/content/drive/MyDrive/logistic_data/emnist-letters-test.csv'\n",
        "\n",
        "train = pd.read_csv (train_path,header=None)\n",
        "test = pd.read_csv (test_path,header=None)"
      ],
      "metadata": {
        "id": "4tUjXYJGPN1A"
      },
      "execution_count": null,
      "outputs": []
    },
    {
      "cell_type": "markdown",
      "source": [
        "#Declaration"
      ],
      "metadata": {
        "id": "iCrwbCYF4bso"
      }
    },
    {
      "cell_type": "markdown",
      "source": [
        "## Reducing Training Dataset"
      ],
      "metadata": {
        "id": "5dpFv207DCMo"
      }
    },
    {
      "cell_type": "code",
      "source": [
        "pd.DataFrame(train)"
      ],
      "metadata": {
        "id": "JBW9S2DwmiQp"
      },
      "execution_count": null,
      "outputs": []
    },
    {
      "cell_type": "code",
      "source": [
        "# sorting training dataset\n",
        "\n",
        "#new_train = train[np.argsort((train[:, 0]))].values\n",
        "\n",
        "#pd.DataFrame(new_train)"
      ],
      "metadata": {
        "id": "lkDZK1dV8cZT"
      },
      "execution_count": null,
      "outputs": []
    },
    {
      "cell_type": "code",
      "source": [
        "# slicing data\n",
        "\n",
        "#new_train = new_train[0:64782,:]\n",
        "\n",
        "#pd.DataFrame(new_train)"
      ],
      "metadata": {
        "id": "t-FTNFS8DAL3"
      },
      "execution_count": null,
      "outputs": []
    },
    {
      "cell_type": "code",
      "source": [
        "# converting train DataFrame to array\n",
        "\n",
        "train = np.array(train) \n",
        "\n",
        "# Getting X and Y arrays\n",
        "\n",
        "X = train [:, 1:]\n",
        "Y = train [:, 0] # first column is label\n",
        "\n",
        "# Reshaping Y \n",
        "\n",
        "Y = Y.reshape((X.shape[0],1))"
      ],
      "metadata": {
        "id": "sVpZtRFuPScd"
      },
      "execution_count": null,
      "outputs": []
    },
    {
      "cell_type": "code",
      "source": [
        "# test data\n",
        "\n",
        "test_data = np.array(test)\n",
        "Y_test = test_data [: , 0].reshape(test_data.shape[0],1)\n",
        "X_test = test_data [: , 1:]"
      ],
      "metadata": {
        "id": "dVPS0wtq4iTv"
      },
      "execution_count": null,
      "outputs": []
    },
    {
      "cell_type": "code",
      "source": [
        "print(X.shape) # columns should be 784 since 28 * 28 = 784\n",
        "print(Y.shape)\n",
        "print(X_test.shape) # columns should be 784 since 28 * 28 = 784\n",
        "print(Y_test.shape)"
      ],
      "metadata": {
        "id": "m9_J8bOX4khX"
      },
      "execution_count": null,
      "outputs": []
    },
    {
      "cell_type": "code",
      "source": [
        "# feature scaling\n",
        "\n",
        "X = X / 300\n",
        "\n",
        "pd.DataFrame(X)"
      ],
      "metadata": {
        "id": "SyR_av_U4oSn"
      },
      "execution_count": null,
      "outputs": []
    },
    {
      "cell_type": "markdown",
      "source": [
        "#Functions"
      ],
      "metadata": {
        "id": "AYDfO_wT54aW"
      }
    },
    {
      "cell_type": "code",
      "source": [
        "K = 121 # sqrt of 14800\n",
        "y_pred = [] # list for predicted Y value"
      ],
      "metadata": {
        "id": "5tiNSIJfybUR"
      },
      "execution_count": null,
      "outputs": []
    },
    {
      "cell_type": "code",
      "source": [
        "\n",
        "  \n",
        "for i in range(X_test.shape[0]):   \n",
        "\n",
        "  dist_list = []\n",
        " \n",
        "\n",
        "  for j in range(64781): #taking only upto 19 Y value consideration for train data = 64781\n",
        "\n",
        "        \n",
        "      distance = np.sqrt( np.sum( (X[j,:] - X_test[i,:])**2 )  )\n",
        "\n",
        "      dist_list.append((distance, Y[j])) # updating cost Function list\n",
        "\n",
        "  dist_list_sorted = np.array(sorted(dist_list)[0:K]) # getting minimum 121 data\n",
        "\n",
        "  y_near = (dist_list_sorted[:,1]) #getting the nearest 121 values\n",
        "\n",
        "  count = np.zeros(27,) # counting the majority of near values\n",
        "\n",
        "  i = 1\n",
        "\n",
        "  for i in range(y_near.shape[0]):\n",
        "    r = y_near[i]\n",
        "    count[r,] = count[r,] + 1\n",
        "\n",
        "  y_nearest = np.where(count == np.amax(count)) # finding the nearest value\n",
        "  y_pred.append(y_nearest) # updating y_pred list\n",
        "\n",
        "\n"
      ],
      "metadata": {
        "id": "NpJVAHly56d3"
      },
      "execution_count": null,
      "outputs": []
    },
    {
      "cell_type": "code",
      "source": [
        "pd.DataFrame(y_pred)"
      ],
      "metadata": {
        "id": "mXsvEgy6m8--"
      },
      "execution_count": null,
      "outputs": []
    },
    {
      "cell_type": "code",
      "source": [
        "pred_data = 0\n",
        "j = 0\n",
        "\n",
        "for j in range(y_pred.shape[0]):\n",
        "\n",
        "  if y_pred[j,] == Y_test[j,]:\n",
        "    pred_data = pred_data + 1"
      ],
      "metadata": {
        "id": "9pnbGsV9d_4i"
      },
      "execution_count": null,
      "outputs": []
    },
    {
      "cell_type": "code",
      "source": [
        "print(pred_data)"
      ],
      "metadata": {
        "id": "R4fZ5wGJeMkc"
      },
      "execution_count": null,
      "outputs": []
    },
    {
      "cell_type": "code",
      "source": [
        "total_data = X_test.shape[0]\n",
        "\n",
        "accuracy = pred_data / total_data\n",
        "\n",
        "print(\"Accuracy is\" , accuracy , \"%\")"
      ],
      "metadata": {
        "id": "sLAz-FskeO80"
      },
      "execution_count": null,
      "outputs": []
    }
  ]
}